{
  "nbformat": 4,
  "nbformat_minor": 0,
  "metadata": {
    "colab": {
      "provenance": []
    },
    "kernelspec": {
      "name": "python3",
      "display_name": "Python 3"
    },
    "language_info": {
      "name": "python"
    }
  },
  "cells": [
    {
      "cell_type": "code",
      "execution_count": 1,
      "metadata": {
        "id": "OaOBFKyGL5Jk"
      },
      "outputs": [],
      "source": [
        "!apt-get install openjdk-8-jdk-headless -qq > /dev/null\n",
        "!wget -q http://www.apache.org/dist/spark/spark-3.2.4/spark-3.2.4-bin-hadoop2.7.tgz\n",
        "!tar xf spark-3.2.4-bin-hadoop2.7.tgz\n",
        "!pip install -q findspark==1.3.0"
      ]
    },
    {
      "cell_type": "code",
      "source": [
        "!pip install -q pyspark==3.2.4"
      ],
      "metadata": {
        "colab": {
          "base_uri": "https://localhost:8080/"
        },
        "id": "5EbwNb05L-Ry",
        "outputId": "08fb2bba-5ab9-4d9e-a77f-2bdd315b661a"
      },
      "execution_count": 2,
      "outputs": [
        {
          "output_type": "stream",
          "name": "stdout",
          "text": [
            "\u001b[2K     \u001b[90m━━━━━━━━━━━━━━━━━━━━━━━━━━━━━━━━━━━━━━━\u001b[0m \u001b[32m281.5/281.5 MB\u001b[0m \u001b[31m4.6 MB/s\u001b[0m eta \u001b[36m0:00:00\u001b[0m\n",
            "\u001b[?25h  Preparing metadata (setup.py) ... \u001b[?25l\u001b[?25hdone\n",
            "\u001b[2K     \u001b[90m━━━━━━━━━━━━━━━━━━━━━━━━━━━━━━━━━━━━━━\u001b[0m \u001b[32m199.7/199.7 kB\u001b[0m \u001b[31m18.8 MB/s\u001b[0m eta \u001b[36m0:00:00\u001b[0m\n",
            "\u001b[?25h  Building wheel for pyspark (setup.py) ... \u001b[?25l\u001b[?25hdone\n"
          ]
        }
      ]
    },
    {
      "cell_type": "code",
      "source": [
        "import os\n",
        "os.environ[\"JAVA_HOME\"] = \"/usr/lib/jvm/java-8-openjdk-amd64\"\n",
        "os.environ[\"SPARK_HOME\"] = \"/content/spark-3.2.4-bin-hadoop2.7\""
      ],
      "metadata": {
        "id": "HRdErqVVMAeQ"
      },
      "execution_count": 3,
      "outputs": []
    },
    {
      "cell_type": "code",
      "source": [
        "import findspark\n",
        "import pyspark\n",
        "from pyspark.sql import SparkSession\n",
        "from pyspark import SparkContext\n",
        "\n",
        "findspark.init(\"spark-3.2.4-bin-hadoop2.7\")\n",
        "sc = pyspark.SparkContext('local[*]')\n",
        "spark = SparkSession.builder.appName('abc').getOrCreate()"
      ],
      "metadata": {
        "id": "YtwLEGi9MC3x"
      },
      "execution_count": 4,
      "outputs": []
    },
    {
      "cell_type": "code",
      "source": [
        "from pyspark.sql.functions import split, explode, count, lower, length\n",
        "import time\n",
        "import urllib.request\n"
      ],
      "metadata": {
        "id": "LegPmOSIMFKw"
      },
      "execution_count": 6,
      "outputs": []
    },
    {
      "cell_type": "markdown",
      "source": [
        "Opis zadania\n",
        "\n",
        "Znajdź 5 książek o objętości ponad 200 stron każda i włącz w jeden zbiór danych.\n",
        "\n",
        "Zamień znaki na małe. Policz znaki występujące w książce{ a: 100, ą : 150,.... } (1p) Wykonaj obliczenia za pomocą RDD oraz Df. (2p) Porównaj czasy wykonania obliczeń. (1p)\n",
        "\n",
        "Poeksperymentuj, jak zmienią się czasy jeżeli napiszesz coś nieco inaczej, np. zmienisz jakiś krok. Co się stanie jak zbiór wzrośnie do 10, 30 książek, jak zmienią się czasy obliczeń? (3p)\n",
        "Zadanie należy udostępnić mi w formie pliku colab. Arkusz powinien zawierać wszystkie wykonane kroki (również te związane z instalacją).\n",
        "\n",
        "Rozwiazanie"
      ],
      "metadata": {
        "id": "UJtgKu3rMfpp"
      }
    },
    {
      "cell_type": "code",
      "source": [
        "x = [\"Dark-Desire.txt\", \"Mansfield-Park.txt\", \"Pride-and-Prejudice.txt\", \"Sense-and-Sensibility.txt\", \"The-Secret-of-Poppyridge-Cove.txt\"]\n",
        "url_git = \"https://raw.githubusercontent.com/lisaborysenko/Zadanie_Big_Data/main/\"\n",
        "\n",
        "ksiazki = []\n",
        "\n",
        "for i in x:\n",
        "    url = url_git + i\n",
        "    print(url)\n",
        "    with urllib.request.urlopen(url) as f:\n",
        "        ksiazka = f.read().decode()\n",
        "        ksiazki.append(ksiazka)\n"
      ],
      "metadata": {
        "colab": {
          "base_uri": "https://localhost:8080/"
        },
        "id": "jZyZfExsMJNF",
        "outputId": "922cbfbf-21e5-4211-f629-99fe785a6645"
      },
      "execution_count": 7,
      "outputs": [
        {
          "output_type": "stream",
          "name": "stdout",
          "text": [
            "https://raw.githubusercontent.com/lisaborysenko/Zadanie_Big_Data/main/Dark-Desire.txt\n",
            "https://raw.githubusercontent.com/lisaborysenko/Zadanie_Big_Data/main/Mansfield-Park.txt\n",
            "https://raw.githubusercontent.com/lisaborysenko/Zadanie_Big_Data/main/Pride-and-Prejudice.txt\n",
            "https://raw.githubusercontent.com/lisaborysenko/Zadanie_Big_Data/main/Sense-and-Sensibility.txt\n",
            "https://raw.githubusercontent.com/lisaborysenko/Zadanie_Big_Data/main/The-Secret-of-Poppyridge-Cove.txt\n"
          ]
        }
      ]
    },
    {
      "cell_type": "code",
      "source": [
        "#RDD\n",
        "#mozemy zauwazyc ze czas wykonania tego zadania za pomoca RDD trwa srednio od 5 sekund \n",
        "start= time.time()\n",
        "for i, ksiazka in enumerate(ksiazki):\n",
        "    znaki = sc.parallelize(ksiazka.lower().split())\n",
        "    liczba = znaki.flatMap(lambda x: list(x)).map(lambda x: (x, 1)).reduceByKey(lambda x, y: x + y).collect()\n",
        "    print(f\"{x[i]} {liczba}\")\n",
        "\n",
        "end = time.time()\n",
        "print(f\"Uplynelo {end-start} sekund\") "
      ],
      "metadata": {
        "colab": {
          "base_uri": "https://localhost:8080/"
        },
        "id": "0VRUx3NBMJaW",
        "outputId": "81bf345a-a854-4c18-bed5-9761da09acac"
      },
      "execution_count": 9,
      "outputs": [
        {
          "output_type": "stream",
          "name": "stdout",
          "text": [
            "Dark-Desire.txt [('l', 7782), ('y', 4482), ('b', 3270), ('s', 10929), ('d', 10647), ('0', 12), ('c', 3969), ('r', 9509), ('1', 40), ('g', 3491), ('.', 3659), ('i', 13668), ('4', 8), ('8', 8), ('9', 7), ('p', 3357), ('“', 804), ('h', 12065), ('j', 325), ('?', 389), ('!', 63), (';', 108), ('>', 4), ('…', 56), ('ï', 1), ('$', 1), ('|', 2), ('o', 15215), ('v', 1546), ('k', 2564), ('t', 18881), ('2', 13), ('-', 77), ('w', 5678), ('e', 24641), ('n', 12973), ('a', 15840), ('7', 8), ('u', 5911), ('m', 5910), ('3', 9), ('5', 8), ('6', 7), (',', 3604), ('’', 1918), ('”', 806), ('f', 3813), ('z', 96), ('q', 121), ('x', 426), ('<', 4), (\"'\", 9), ('é', 5), ('/', 6), ('ç', 2), (':', 8), ('—', 5), ('‘', 4), ('%', 1), ('(', 7), (')', 7), ('&', 1), ('@', 1)]\n",
            "Mansfield-Park.txt [('h', 43786), ('p', 11329), ('r', 43928), ('j', 1007), ('c', 16962), ('g', 14128), ('b', 11116), ('s', 44817), ('i', 47284), ('l', 26364), ('d', 30166), ('y', 15509), ('0', 28), ('1', 75), ('[', 2), ('#', 1), ('4', 18), ('8', 12), ('*', 28), ('.', 7110), (';', 2260), ('?', 471), ('“', 1657), ('!', 497), ('£', 4), ('9', 9), ('$', 2), ('t', 61795), ('e', 87273), ('o', 55259), ('u', 20937), ('n', 51551), ('k', 4335), ('f', 17513), ('m', 19038), ('a', 56281), (',', 12587), (':', 360), ('2', 22), (']', 2), ('v', 7460), ('w', 17105), ('(', 80), (')', 80), ('x', 1168), (\"'\", 1142), ('q', 816), ('z', 87), ('-', 626), ('—', 413), ('”', 1657), ('3', 14), ('/', 25), ('7', 6), ('5', 12), ('6', 7), ('%', 1), ('@', 2)]\n",
            "Pride-and-Prejudice.txt [('h', 34638), ('p', 8738), ('r', 33513), ('j', 966), ('c', 14114), ('g', 10436), ('b', 9357), ('i', 38932), ('d', 22843), ('y', 13026), ('s', 33855), ('l', 22066), ('0', 32), ('8', 23), ('[', 1), ('#', 1), ('1', 99), ('4', 46), ('9', 22), ('*', 28), ('.', 6393), ('“', 1802), ('?', 463), (';', 1538), ('!', 499), ('à', 4), ('$', 2), ('t', 48191), ('e', 71220), ('o', 41354), ('u', 15498), ('n', 38710), ('k', 3339), ('f', 12379), ('a', 42741), (',', 9279), (':', 153), ('2', 50), ('6', 26), ('3', 49), (']', 1), ('v', 5841), ('m', 15123), ('w', 12568), ('5', 45), ('7', 18), ('x', 866), ('”', 1751), ('-', 404), ('z', 938), ('q', 638), ('’', 727), ('—', 395), ('‘', 19), ('ê', 8), ('(', 38), (')', 38), ('é', 1), ('/', 26), ('%', 1), (\"'\", 2), ('@', 2)]\n",
            "Sense-and-Sensibility.txt [('h', 32882), ('p', 8485), ('r', 34474), ('j', 1036), ('c', 13131), ('g', 9949), ('b', 8197), ('s', 33528), ('d', 22840), ('i', 37695), ('l', 21112), ('y', 11994), ('1', 100), ('8', 21), ('.', 5131), (';', 1572), ('\"', 3106), ('!', 562), ('?', 451), ('0', 32), ('4', 39), ('9', 19), ('[', 2), ('*', 22), ('$', 2), ('t', 46585), ('e', 68487), ('o', 43316), ('u', 15216), ('n', 39467), ('k', 2910), ('f', 12605), ('a', 41525), (',', 10045), ('(', 53), (')', 53), ('v', 5983), ('x', 942), ('m', 14966), ('w', 12917), ('q', 615), (\"'\", 921), (':', 82), ('-', 443), ('—', 1178), ('2', 39), ('z', 71), ('3', 42), ('7', 17), ('5', 24), ('6', 21), ('&', 6), (']', 2), ('/', 25), ('%', 1), ('@', 2)]\n",
            "The-Secret-of-Poppyridge-Cove.txt [('h', 16290), ('s', 14116), ('c', 5515), ('r', 12001), ('p', 4061), ('y', 4649), ('i', 14824), ('d', 11186), ('g', 5545), ('l', 9312), ('1', 37), ('4', 7), ('8', 8), ('9', 7), ('0', 24), ('!', 67), ('b', 4331), ('.', 4225), ('j', 373), ('…', 98), ('*', 31), ('“', 1062), ('?', 400), (';', 6), ('à', 1), ('$', 2), ('#', 6), ('ï', 1), ('t', 19229), ('e', 30042), ('o', 15276), ('f', 4329), ('v', 1811), ('m', 4651), ('a', 17918), ('n', 14978), ('u', 6376), ('2', 15), ('3', 12), ('5', 9), ('6', 8), ('7', 6), (',', 3128), ('w', 5442), ('-', 106), ('k', 2571), ('’', 1586), ('z', 219), ('(', 5), (')', 5), (':', 14), ('/', 1), ('”', 1062), ('q', 231), ('—', 101), ('x', 280), (\"'\", 16), ('é', 3), ('‘', 1)]\n",
            "Uplynelo 10.25021767616272 sekund\n"
          ]
        }
      ]
    },
    {
      "cell_type": "code",
      "source": [
        "#DF\n",
        "#mozemy zauwazyc ze czas wykonania tego samego zadania ale za pomoca DF jest o wiele mniejszy i trwa srednio od 2 sekund\n",
        "start= time.time()\n",
        "\n",
        "df = spark.createDataFrame([(x[i], ksiazki[i]) for i in range(len(x))], [\"nazwa_ksiazki\", \"tekst\"])\n",
        "df = df.withColumn(\"maly_tekst\", lower(df[\"tekst\"])) \n",
        "df = df.withColumn(\"znak\", explode(split(df[\"maly_tekst\"], \"\"))) \n",
        "#df = df.filter(df[\"char\"].isin(list(\"abcdefghijklmnopqrstuvwxyz\"))) #mozemy wyszukac tylko litery \n",
        "df = df.filter(~df[\"znak\"].isin(list(\" \\t\\n\"))) #usuwam niepotrzebne znaki typu  \\t\\n i spacje\n",
        "df = df.where(length(df[\"znak\"]) > 0) #pozostawiam znaki ktore maja dlug wiecej niz 0\n",
        "df = df.groupBy(\"nazwa_ksiazki\", \"znak\").agg(count(\"*\").alias(\"liczba_znakow\")) \n",
        "\n",
        "df.show()\n",
        "\n",
        "end = time.time()\n",
        "print(f\"Uplynelo {end-start} sekund\")\n"
      ],
      "metadata": {
        "colab": {
          "base_uri": "https://localhost:8080/"
        },
        "id": "Bf_89GeOMJli",
        "outputId": "bd4c4231-80fa-4f78-c996-048cf19b905e"
      },
      "execution_count": 10,
      "outputs": [
        {
          "output_type": "stream",
          "name": "stdout",
          "text": [
            "+------------------+----+-------------+\n",
            "|     nazwa_ksiazki|znak|liczba_znakow|\n",
            "+------------------+----+-------------+\n",
            "|   Dark-Desire.txt|   6|            7|\n",
            "|Mansfield-Park.txt|   s|        44817|\n",
            "|   Dark-Desire.txt|   y|         4482|\n",
            "|Mansfield-Park.txt|   4|           18|\n",
            "|   Dark-Desire.txt|   q|          121|\n",
            "|Mansfield-Park.txt|   ?|          471|\n",
            "|Mansfield-Park.txt|   u|        20937|\n",
            "|   Dark-Desire.txt|   t|        18881|\n",
            "|   Dark-Desire.txt|   u|         5911|\n",
            "|   Dark-Desire.txt|   o|        15215|\n",
            "|Mansfield-Park.txt|   @|            2|\n",
            "|Mansfield-Park.txt|   y|        15509|\n",
            "|Mansfield-Park.txt|   i|        47284|\n",
            "|   Dark-Desire.txt|   ”|          806|\n",
            "|   Dark-Desire.txt|   ç|            2|\n",
            "|   Dark-Desire.txt|   7|            8|\n",
            "|Mansfield-Park.txt|   :|          360|\n",
            "|   Dark-Desire.txt|   i|        13668|\n",
            "|Mansfield-Park.txt|   d|        30166|\n",
            "|   Dark-Desire.txt|   9|            7|\n",
            "+------------------+----+-------------+\n",
            "only showing top 20 rows\n",
            "\n",
            "Uplynelo 11.636209964752197 sekund\n"
          ]
        }
      ]
    },
    {
      "cell_type": "code",
      "source": [
        "\n",
        "#ten kod pokazuje tylko wybrane litery, a nie wszystkie znaki za pomoc fukcji .filter() i .isin()\n",
        "#jak mozemy zauwazyc sredni czas wykonanaia tego zadania wariuje od 3 sekund\n",
        "start= time.time()\n",
        "df= spark.createDataFrame([(x[i], ksiazki[i]) for i in range(len(x))], [\"nazwa_ksiazki\", \"tekst\"])\n",
        "df = df.withColumn(\"maly_tekst\", lower(df[\"tekst\"])) \n",
        "df = df.withColumn(\"znak\", explode(split(df[\"maly_tekst\"], \"\"))) \n",
        "df= df.filter(df[\"znak\"].isin(list(\"abcdefghijklmnopqrstuvwxyz\"))) \n",
        "df = df.filter(~df[\"znak\"].isin(list(\" \\t\\n\"))) #usuwam niepotrzebne znaki typu  \\t\\n i spacje\n",
        "df = df.where(length(df[\"znak\"]) > 0) #pozostawiam znaki ktore maja dlug wiecej niz 0\n",
        "df = df.groupBy(\"nazwa_ksiazki\", \"znak\").agg(count(\"*\").alias(\"liczba_znakow\")).orderBy(\"znak\")\n",
        "df.show()\n",
        "\n",
        "end = time.time()\n",
        "print(f\"Uplynelo {end-start} sekund\")"
      ],
      "metadata": {
        "colab": {
          "base_uri": "https://localhost:8080/"
        },
        "id": "BygAQ9wbN8Dl",
        "outputId": "c100a079-4ed4-4785-d5e4-2fe3e7a93e13"
      },
      "execution_count": 11,
      "outputs": [
        {
          "output_type": "stream",
          "name": "stdout",
          "text": [
            "+--------------------+----+-------------+\n",
            "|       nazwa_ksiazki|znak|liczba_znakow|\n",
            "+--------------------+----+-------------+\n",
            "|Sense-and-Sensibi...|   a|        41525|\n",
            "|  Mansfield-Park.txt|   a|        56281|\n",
            "|The-Secret-of-Pop...|   a|        17918|\n",
            "|     Dark-Desire.txt|   a|        15840|\n",
            "|Pride-and-Prejudi...|   a|        42741|\n",
            "|  Mansfield-Park.txt|   b|        11116|\n",
            "|The-Secret-of-Pop...|   b|         4331|\n",
            "|     Dark-Desire.txt|   b|         3270|\n",
            "|Sense-and-Sensibi...|   b|         8197|\n",
            "|Pride-and-Prejudi...|   b|         9357|\n",
            "|     Dark-Desire.txt|   c|         3969|\n",
            "|Pride-and-Prejudi...|   c|        14114|\n",
            "|The-Secret-of-Pop...|   c|         5515|\n",
            "|Sense-and-Sensibi...|   c|        13131|\n",
            "|  Mansfield-Park.txt|   c|        16962|\n",
            "|  Mansfield-Park.txt|   d|        30166|\n",
            "|Pride-and-Prejudi...|   d|        22843|\n",
            "|     Dark-Desire.txt|   d|        10647|\n",
            "|The-Secret-of-Pop...|   d|        11186|\n",
            "|Sense-and-Sensibi...|   d|        22840|\n",
            "+--------------------+----+-------------+\n",
            "only showing top 20 rows\n",
            "\n",
            "Uplynelo 4.862060070037842 sekund\n"
          ]
        }
      ]
    },
    {
      "cell_type": "code",
      "source": [
        "#DF2\n",
        "#przeksztalcilam wierszy w kolumny za pomoca .pivot() f-kcji, jak mozemy zauwazyc, to sie zwiekszyl czas wykonania danego zadania od 4 sekund zamiast od 2 sekund jak w poprzednim\n",
        "start= time.time()\n",
        "\n",
        "df= spark.createDataFrame([(x[i], ksiazki[i]) for i in range(len(x))], [\"nazwa_ksiazki\", \"tekst\"])\n",
        "df = df.withColumn(\"maly_tekst\", lower(df[\"tekst\"])) \n",
        "df = df.withColumn(\"znak\", explode(split(df[\"maly_tekst\"], \"\"))) \n",
        "\n",
        "#df= df.filter(df[\"znak\"].isin(list(\"abcdefghijklmnopqrstuvwxyz\")))  #jesli chce zeby pokazzywaly tylko litery\n",
        "df = df.filter(~df[\"znak\"].isin(list(\" \\t\\n\"))) #usuwam niepotrzebne znaki typu  \\t\\n i spacje\n",
        "df = df.where(length(df[\"znak\"]) > 0) #pozostawiam znaki ktore maja dlug wiecej niz 0\n",
        "df = df.groupBy(\"nazwa_ksiazki\").pivot(\"znak\").agg(count(\"*\").alias(\"liczba_znakow\")) \n",
        "\n",
        "df.show()\n",
        "\n",
        "end = time.time()\n",
        "print(f\"Uplynelo {end-start} sekund\")"
      ],
      "metadata": {
        "colab": {
          "base_uri": "https://localhost:8080/"
        },
        "id": "ia-JGRNbOABl",
        "outputId": "8248a328-73fc-41da-f911-8acb6dcd17a7"
      },
      "execution_count": 12,
      "outputs": [
        {
          "output_type": "stream",
          "name": "stdout",
          "text": [
            "+--------------------+---+----+----+---+----+----+----+---+---+----+-----+---+----+---+---+---+---+---+---+---+---+---+---+---+---+----+----+----+---+----+----+----+-----+-----+-----+-----+-----+-----+-----+-----+-----+----+----+-----+-----+-----+-----+-----+---+-----+-----+-----+-----+----+-----+----+-----+---+----+----+----+----+----+----+----+----+----+----+----+----+----+\n",
            "|       nazwa_ksiazki|  !|   \"|   #|  $|   %|   &|   '|  (|  )|   *|    ,|  -|   .|  /|  0|  1|  2|  3|  4|  5|  6|  7|  8|  9|  :|   ;|   <|   >|  ?|   @|   [|   ]|    a|    b|    c|    d|    e|    f|    g|    h|    i|   j|   k|    l|    m|    n|    o|    p|  q|    r|    s|    t|    u|   v|    w|   x|    y|  z|   ||   £|   à|   ç|   é|   ê|   ï|   —|   ‘|   ’|   “|   ”|   …|\n",
            "+--------------------+---+----+----+---+----+----+----+---+---+----+-----+---+----+---+---+---+---+---+---+---+---+---+---+---+---+----+----+----+---+----+----+----+-----+-----+-----+-----+-----+-----+-----+-----+-----+----+----+-----+-----+-----+-----+-----+---+-----+-----+-----+-----+----+-----+----+-----+---+----+----+----+----+----+----+----+----+----+----+----+----+----+\n",
            "|The-Secret-of-Pop...| 67|null|   6|  2|null|null|  16|  5|  5|  31| 3128|106|4225|  1| 24| 37| 15| 12|  7|  9|  8|  6|  8|  7| 14|   6|null|null|400|null|null|null|17918| 4331| 5515|11186|30042| 4329| 5545|16290|14824| 373|2571| 9312| 4651|14978|15276| 4061|231|12001|14116|19229| 6376|1811| 5442| 280| 4649|219|null|null|   1|null|   3|null|   1| 101|   1|1586|1062|1062|  98|\n",
            "|Sense-and-Sensibi...|562|3106|null|  2|   1|   6| 921| 53| 53|  22|10045|443|5131| 25| 32|100| 39| 42| 39| 24| 21| 17| 21| 19| 82|1572|null|null|451|   2|   2|   2|41525| 8197|13131|22840|68487|12605| 9949|32882|37695|1036|2910|21112|14966|39467|43316| 8485|615|34474|33528|46585|15216|5983|12917| 942|11994| 71|null|null|null|null|null|null|null|1178|null|null|null|null|null|\n",
            "|Pride-and-Prejudi...|499|null|   1|  2|   1|null|   2| 38| 38|  28| 9279|404|6393| 26| 32| 99| 50| 49| 46| 45| 26| 18| 23| 22|153|1538|null|null|463|   2|   1|   1|42741| 9357|14114|22843|71220|12379|10436|34638|38932| 966|3339|22066|15123|38710|41354| 8738|638|33513|33855|48191|15498|5841|12568| 866|13026|938|null|null|   4|null|   1|   8|null| 395|  19| 727|1802|1751|null|\n",
            "|     Dark-Desire.txt| 63|null|null|  1|   1|   1|   9|  7|  7|null| 3604| 77|3659|  6| 12| 40| 13|  9|  8|  8|  7|  8|  8|  7|  8| 108|   4|   4|389|   1|null|null|15840| 3270| 3969|10647|24641| 3813| 3491|12065|13668| 325|2564| 7782| 5910|12973|15215| 3357|121| 9509|10929|18881| 5911|1546| 5678| 426| 4482| 96|   2|null|null|   2|   5|null|   1|   5|   4|1918| 804| 806|  56|\n",
            "|  Mansfield-Park.txt|497|null|   1|  2|   1|null|1142| 80| 80|  28|12587|626|7110| 25| 28| 75| 22| 14| 18| 12|  7|  6| 12|  9|360|2260|null|null|471|   2|   2|   2|56281|11116|16962|30166|87273|17513|14128|43786|47284|1007|4335|26364|19038|51551|55259|11329|816|43928|44817|61795|20937|7460|17105|1168|15509| 87|null|   4|null|null|null|null|null| 413|null|null|1657|1657|null|\n",
            "+--------------------+---+----+----+---+----+----+----+---+---+----+-----+---+----+---+---+---+---+---+---+---+---+---+---+---+---+----+----+----+---+----+----+----+-----+-----+-----+-----+-----+-----+-----+-----+-----+----+----+-----+-----+-----+-----+-----+---+-----+-----+-----+-----+----+-----+----+-----+---+----+----+----+----+----+----+----+----+----+----+----+----+----+\n",
            "\n",
            "Uplynelo 8.069485664367676 sekund\n"
          ]
        }
      ]
    },
    {
      "cell_type": "code",
      "source": [
        "\n",
        "#10 ksiazek\n",
        "x10 = [\"Dark-Desire.txt\", \"Mansfield-Park.txt\", \"Pride-and-Prejudice.txt\", \"Sense-and-Sensibility.txt\", \"The-Secret-of-Poppyridge-Cove.txt\", \"Alien-Cradle.txt\", \"From-the-Earth-to-the-Moon.txt\", \"The-Cat-of-Bubastes.txt\", \"The-Restless-Sex.txt\", \"The-Window-at-the-White-Cat.txt\"]\n",
        "url_git10 = \"https://raw.githubusercontent.com/lisaborysenko/Zadanie_Big_Data/main/\"\n",
        "\n",
        "ksiazki10 = []\n",
        "import urllib.request\n",
        "for i in x10:\n",
        "    url10 = url_git10 + i\n",
        "    print(url10)\n",
        "    with urllib.request.urlopen(url10) as f:\n",
        "        ksiazka10 = f.read().decode()\n",
        "        ksiazki10.append(ksiazka10)"
      ],
      "metadata": {
        "colab": {
          "base_uri": "https://localhost:8080/"
        },
        "id": "c0VZyzmQOH_U",
        "outputId": "a9a0e9e4-be90-455f-fd6d-920535b5c1e0"
      },
      "execution_count": 13,
      "outputs": [
        {
          "output_type": "stream",
          "name": "stdout",
          "text": [
            "https://raw.githubusercontent.com/lisaborysenko/Zadanie_Big_Data/main/Dark-Desire.txt\n",
            "https://raw.githubusercontent.com/lisaborysenko/Zadanie_Big_Data/main/Mansfield-Park.txt\n",
            "https://raw.githubusercontent.com/lisaborysenko/Zadanie_Big_Data/main/Pride-and-Prejudice.txt\n",
            "https://raw.githubusercontent.com/lisaborysenko/Zadanie_Big_Data/main/Sense-and-Sensibility.txt\n",
            "https://raw.githubusercontent.com/lisaborysenko/Zadanie_Big_Data/main/The-Secret-of-Poppyridge-Cove.txt\n",
            "https://raw.githubusercontent.com/lisaborysenko/Zadanie_Big_Data/main/Alien-Cradle.txt\n",
            "https://raw.githubusercontent.com/lisaborysenko/Zadanie_Big_Data/main/From-the-Earth-to-the-Moon.txt\n",
            "https://raw.githubusercontent.com/lisaborysenko/Zadanie_Big_Data/main/The-Cat-of-Bubastes.txt\n",
            "https://raw.githubusercontent.com/lisaborysenko/Zadanie_Big_Data/main/The-Restless-Sex.txt\n",
            "https://raw.githubusercontent.com/lisaborysenko/Zadanie_Big_Data/main/The-Window-at-the-White-Cat.txt\n"
          ]
        }
      ]
    },
    {
      "cell_type": "code",
      "source": [
        "#jak mozemy zauwazyc sredni czas wykonania danego zadania z 10 ksiazkami zwiekszyl sie prawie w dwa razy porownujac do zadania z 5 ksiazkami\n",
        "start= time.time()\n",
        "for i, ksiazka10 in enumerate(ksiazki10):\n",
        "    znaki10 = sc.parallelize(ksiazka10.lower().split())\n",
        "    liczba10 = znaki10.flatMap(lambda x: list(x)).map(lambda x: (x, 1)).reduceByKey(lambda x, y: x + y).collect()\n",
        "    print(f\"{x10[i]} {liczba}\")\n",
        "\n",
        "end = time.time()\n",
        "print(f\"Uplynelo {end-start} sekund\")"
      ],
      "metadata": {
        "colab": {
          "base_uri": "https://localhost:8080/"
        },
        "id": "7j_3higROIX9",
        "outputId": "61e008ad-79db-453e-8fdb-45821034f6af"
      },
      "execution_count": 14,
      "outputs": [
        {
          "output_type": "stream",
          "name": "stdout",
          "text": [
            "Dark-Desire.txt [('h', 16290), ('s', 14116), ('c', 5515), ('r', 12001), ('p', 4061), ('y', 4649), ('i', 14824), ('d', 11186), ('g', 5545), ('l', 9312), ('1', 37), ('4', 7), ('8', 8), ('9', 7), ('0', 24), ('!', 67), ('b', 4331), ('.', 4225), ('j', 373), ('…', 98), ('*', 31), ('“', 1062), ('?', 400), (';', 6), ('à', 1), ('$', 2), ('#', 6), ('ï', 1), ('t', 19229), ('e', 30042), ('o', 15276), ('f', 4329), ('v', 1811), ('m', 4651), ('a', 17918), ('n', 14978), ('u', 6376), ('2', 15), ('3', 12), ('5', 9), ('6', 8), ('7', 6), (',', 3128), ('w', 5442), ('-', 106), ('k', 2571), ('’', 1586), ('z', 219), ('(', 5), (')', 5), (':', 14), ('/', 1), ('”', 1062), ('q', 231), ('—', 101), ('x', 280), (\"'\", 16), ('é', 3), ('‘', 1)]\n",
            "Mansfield-Park.txt [('h', 16290), ('s', 14116), ('c', 5515), ('r', 12001), ('p', 4061), ('y', 4649), ('i', 14824), ('d', 11186), ('g', 5545), ('l', 9312), ('1', 37), ('4', 7), ('8', 8), ('9', 7), ('0', 24), ('!', 67), ('b', 4331), ('.', 4225), ('j', 373), ('…', 98), ('*', 31), ('“', 1062), ('?', 400), (';', 6), ('à', 1), ('$', 2), ('#', 6), ('ï', 1), ('t', 19229), ('e', 30042), ('o', 15276), ('f', 4329), ('v', 1811), ('m', 4651), ('a', 17918), ('n', 14978), ('u', 6376), ('2', 15), ('3', 12), ('5', 9), ('6', 8), ('7', 6), (',', 3128), ('w', 5442), ('-', 106), ('k', 2571), ('’', 1586), ('z', 219), ('(', 5), (')', 5), (':', 14), ('/', 1), ('”', 1062), ('q', 231), ('—', 101), ('x', 280), (\"'\", 16), ('é', 3), ('‘', 1)]\n",
            "Pride-and-Prejudice.txt [('h', 16290), ('s', 14116), ('c', 5515), ('r', 12001), ('p', 4061), ('y', 4649), ('i', 14824), ('d', 11186), ('g', 5545), ('l', 9312), ('1', 37), ('4', 7), ('8', 8), ('9', 7), ('0', 24), ('!', 67), ('b', 4331), ('.', 4225), ('j', 373), ('…', 98), ('*', 31), ('“', 1062), ('?', 400), (';', 6), ('à', 1), ('$', 2), ('#', 6), ('ï', 1), ('t', 19229), ('e', 30042), ('o', 15276), ('f', 4329), ('v', 1811), ('m', 4651), ('a', 17918), ('n', 14978), ('u', 6376), ('2', 15), ('3', 12), ('5', 9), ('6', 8), ('7', 6), (',', 3128), ('w', 5442), ('-', 106), ('k', 2571), ('’', 1586), ('z', 219), ('(', 5), (')', 5), (':', 14), ('/', 1), ('”', 1062), ('q', 231), ('—', 101), ('x', 280), (\"'\", 16), ('é', 3), ('‘', 1)]\n",
            "Sense-and-Sensibility.txt [('h', 16290), ('s', 14116), ('c', 5515), ('r', 12001), ('p', 4061), ('y', 4649), ('i', 14824), ('d', 11186), ('g', 5545), ('l', 9312), ('1', 37), ('4', 7), ('8', 8), ('9', 7), ('0', 24), ('!', 67), ('b', 4331), ('.', 4225), ('j', 373), ('…', 98), ('*', 31), ('“', 1062), ('?', 400), (';', 6), ('à', 1), ('$', 2), ('#', 6), ('ï', 1), ('t', 19229), ('e', 30042), ('o', 15276), ('f', 4329), ('v', 1811), ('m', 4651), ('a', 17918), ('n', 14978), ('u', 6376), ('2', 15), ('3', 12), ('5', 9), ('6', 8), ('7', 6), (',', 3128), ('w', 5442), ('-', 106), ('k', 2571), ('’', 1586), ('z', 219), ('(', 5), (')', 5), (':', 14), ('/', 1), ('”', 1062), ('q', 231), ('—', 101), ('x', 280), (\"'\", 16), ('é', 3), ('‘', 1)]\n",
            "The-Secret-of-Poppyridge-Cove.txt [('h', 16290), ('s', 14116), ('c', 5515), ('r', 12001), ('p', 4061), ('y', 4649), ('i', 14824), ('d', 11186), ('g', 5545), ('l', 9312), ('1', 37), ('4', 7), ('8', 8), ('9', 7), ('0', 24), ('!', 67), ('b', 4331), ('.', 4225), ('j', 373), ('…', 98), ('*', 31), ('“', 1062), ('?', 400), (';', 6), ('à', 1), ('$', 2), ('#', 6), ('ï', 1), ('t', 19229), ('e', 30042), ('o', 15276), ('f', 4329), ('v', 1811), ('m', 4651), ('a', 17918), ('n', 14978), ('u', 6376), ('2', 15), ('3', 12), ('5', 9), ('6', 8), ('7', 6), (',', 3128), ('w', 5442), ('-', 106), ('k', 2571), ('’', 1586), ('z', 219), ('(', 5), (')', 5), (':', 14), ('/', 1), ('”', 1062), ('q', 231), ('—', 101), ('x', 280), (\"'\", 16), ('é', 3), ('‘', 1)]\n",
            "Alien-Cradle.txt [('h', 16290), ('s', 14116), ('c', 5515), ('r', 12001), ('p', 4061), ('y', 4649), ('i', 14824), ('d', 11186), ('g', 5545), ('l', 9312), ('1', 37), ('4', 7), ('8', 8), ('9', 7), ('0', 24), ('!', 67), ('b', 4331), ('.', 4225), ('j', 373), ('…', 98), ('*', 31), ('“', 1062), ('?', 400), (';', 6), ('à', 1), ('$', 2), ('#', 6), ('ï', 1), ('t', 19229), ('e', 30042), ('o', 15276), ('f', 4329), ('v', 1811), ('m', 4651), ('a', 17918), ('n', 14978), ('u', 6376), ('2', 15), ('3', 12), ('5', 9), ('6', 8), ('7', 6), (',', 3128), ('w', 5442), ('-', 106), ('k', 2571), ('’', 1586), ('z', 219), ('(', 5), (')', 5), (':', 14), ('/', 1), ('”', 1062), ('q', 231), ('—', 101), ('x', 280), (\"'\", 16), ('é', 3), ('‘', 1)]\n",
            "From-the-Earth-to-the-Moon.txt [('h', 16290), ('s', 14116), ('c', 5515), ('r', 12001), ('p', 4061), ('y', 4649), ('i', 14824), ('d', 11186), ('g', 5545), ('l', 9312), ('1', 37), ('4', 7), ('8', 8), ('9', 7), ('0', 24), ('!', 67), ('b', 4331), ('.', 4225), ('j', 373), ('…', 98), ('*', 31), ('“', 1062), ('?', 400), (';', 6), ('à', 1), ('$', 2), ('#', 6), ('ï', 1), ('t', 19229), ('e', 30042), ('o', 15276), ('f', 4329), ('v', 1811), ('m', 4651), ('a', 17918), ('n', 14978), ('u', 6376), ('2', 15), ('3', 12), ('5', 9), ('6', 8), ('7', 6), (',', 3128), ('w', 5442), ('-', 106), ('k', 2571), ('’', 1586), ('z', 219), ('(', 5), (')', 5), (':', 14), ('/', 1), ('”', 1062), ('q', 231), ('—', 101), ('x', 280), (\"'\", 16), ('é', 3), ('‘', 1)]\n",
            "The-Cat-of-Bubastes.txt [('h', 16290), ('s', 14116), ('c', 5515), ('r', 12001), ('p', 4061), ('y', 4649), ('i', 14824), ('d', 11186), ('g', 5545), ('l', 9312), ('1', 37), ('4', 7), ('8', 8), ('9', 7), ('0', 24), ('!', 67), ('b', 4331), ('.', 4225), ('j', 373), ('…', 98), ('*', 31), ('“', 1062), ('?', 400), (';', 6), ('à', 1), ('$', 2), ('#', 6), ('ï', 1), ('t', 19229), ('e', 30042), ('o', 15276), ('f', 4329), ('v', 1811), ('m', 4651), ('a', 17918), ('n', 14978), ('u', 6376), ('2', 15), ('3', 12), ('5', 9), ('6', 8), ('7', 6), (',', 3128), ('w', 5442), ('-', 106), ('k', 2571), ('’', 1586), ('z', 219), ('(', 5), (')', 5), (':', 14), ('/', 1), ('”', 1062), ('q', 231), ('—', 101), ('x', 280), (\"'\", 16), ('é', 3), ('‘', 1)]\n",
            "The-Restless-Sex.txt [('h', 16290), ('s', 14116), ('c', 5515), ('r', 12001), ('p', 4061), ('y', 4649), ('i', 14824), ('d', 11186), ('g', 5545), ('l', 9312), ('1', 37), ('4', 7), ('8', 8), ('9', 7), ('0', 24), ('!', 67), ('b', 4331), ('.', 4225), ('j', 373), ('…', 98), ('*', 31), ('“', 1062), ('?', 400), (';', 6), ('à', 1), ('$', 2), ('#', 6), ('ï', 1), ('t', 19229), ('e', 30042), ('o', 15276), ('f', 4329), ('v', 1811), ('m', 4651), ('a', 17918), ('n', 14978), ('u', 6376), ('2', 15), ('3', 12), ('5', 9), ('6', 8), ('7', 6), (',', 3128), ('w', 5442), ('-', 106), ('k', 2571), ('’', 1586), ('z', 219), ('(', 5), (')', 5), (':', 14), ('/', 1), ('”', 1062), ('q', 231), ('—', 101), ('x', 280), (\"'\", 16), ('é', 3), ('‘', 1)]\n",
            "The-Window-at-the-White-Cat.txt [('h', 16290), ('s', 14116), ('c', 5515), ('r', 12001), ('p', 4061), ('y', 4649), ('i', 14824), ('d', 11186), ('g', 5545), ('l', 9312), ('1', 37), ('4', 7), ('8', 8), ('9', 7), ('0', 24), ('!', 67), ('b', 4331), ('.', 4225), ('j', 373), ('…', 98), ('*', 31), ('“', 1062), ('?', 400), (';', 6), ('à', 1), ('$', 2), ('#', 6), ('ï', 1), ('t', 19229), ('e', 30042), ('o', 15276), ('f', 4329), ('v', 1811), ('m', 4651), ('a', 17918), ('n', 14978), ('u', 6376), ('2', 15), ('3', 12), ('5', 9), ('6', 8), ('7', 6), (',', 3128), ('w', 5442), ('-', 106), ('k', 2571), ('’', 1586), ('z', 219), ('(', 5), (')', 5), (':', 14), ('/', 1), ('”', 1062), ('q', 231), ('—', 101), ('x', 280), (\"'\", 16), ('é', 3), ('‘', 1)]\n",
            "Uplynelo 10.795844554901123 sekund\n"
          ]
        }
      ]
    },
    {
      "cell_type": "code",
      "source": [
        "#jak mozemy zauwazyc sredni czas wykonania danego zadania z 10 ksiazkami zwiekszyl sie prawie w dwa razy porownujac do zadania z 5 ksiazkami\n",
        "\n",
        "start= time.time()\n",
        "\n",
        "df10 = spark.createDataFrame([(x10[i], ksiazki10[i]) for i in range(len(x10))], [\"nazwa_ksiazki\", \"tekst\"])\n",
        "df10 = df10.withColumn(\"maly_tekst\", lower(df10[\"tekst\"])) \n",
        "df10 = df10.withColumn(\"znak\", explode(split(df10[\"maly_tekst\"], \"\"))) \n",
        "#df = df.filter(df[\"char\"].isin(list(\"abcdefghijklmnopqrstuvwxyz\"))) \n",
        "df10 = df10.filter(~df10[\"znak\"].isin(list(\" \\t\\n\"))) #usuwam niepotrzebne znaki typu  \\t\\n i spacje\n",
        "df10 = df10.where(length(df10[\"znak\"]) > 0) #pozostawiam znaki ktore maja dlug wiecej niz 0\n",
        "df10 = df10.groupBy(\"nazwa_ksiazki\", \"znak\").agg(count(\"*\").alias(\"liczba_znakow\")) \n",
        "\n",
        "df10.show(10)\n",
        "\n",
        "end = time.time()\n",
        "print(f\"Uplynelo {end-start} sekund\")"
      ],
      "metadata": {
        "colab": {
          "base_uri": "https://localhost:8080/"
        },
        "id": "dK-29vRpOMbM",
        "outputId": "6a1278f8-6eca-470e-8d03-1517a54c90e8"
      },
      "execution_count": 15,
      "outputs": [
        {
          "output_type": "stream",
          "name": "stdout",
          "text": [
            "+--------------------+----+-------------+\n",
            "|       nazwa_ksiazki|znak|liczba_znakow|\n",
            "+--------------------+----+-------------+\n",
            "|     Dark-Desire.txt|   6|            7|\n",
            "|  Mansfield-Park.txt|   s|        44817|\n",
            "|The-Secret-of-Pop...|   1|           37|\n",
            "|The-Secret-of-Pop...|   ’|         1586|\n",
            "|     Dark-Desire.txt|   y|         4482|\n",
            "|  Mansfield-Park.txt|   4|           18|\n",
            "|Sense-and-Sensibi...|   g|         9949|\n",
            "|     Dark-Desire.txt|   q|          121|\n",
            "|  Mansfield-Park.txt|   ?|          471|\n",
            "|The-Secret-of-Pop...|   ‘|            1|\n",
            "+--------------------+----+-------------+\n",
            "only showing top 10 rows\n",
            "\n",
            "Uplynelo 5.068523168563843 sekund\n"
          ]
        }
      ]
    },
    {
      "cell_type": "code",
      "source": [
        "#jak mozemy zauwazyc sredni czas wykonania danego zadania z 10 ksiazkami zwiekszyl sie prawie w dwa razy porownujac do zadania z 5 ksiazkami\n",
        "start= time.time()\n",
        "\n",
        "\n",
        "df10 = spark.createDataFrame([(x10[i], ksiazki10[i]) for i in range(len(x10))], [\"nazwa_ksiazki\", \"tekst\"])\n",
        "df10 = df10.withColumn(\"maly_tekst\", lower(df10[\"tekst\"])) \n",
        "df10 = df10.withColumn(\"znak\", explode(split(df10[\"maly_tekst\"], \"\"))) \n",
        "#df = df.filter(df[\"znak\"].isin(list(\"abcdefghijklmnopqrstuvwxyz\"))) \n",
        "df10 = df10.filter(~df10[\"znak\"].isin(list(\" \\t\\n\"))) #usuwam niepotrzebne znaki typu  \\t\\n i spacje\n",
        "df10 = df10.where(length(df10[\"znak\"]) > 0) #pozostawiam znaki ktore maja dlug wiecej niz 0\n",
        "\n",
        "df10 = df10.groupBy(\"nazwa_ksiazki\").pivot(\"znak\").agg(count(\"*\").alias(\"liczba_znakow\")) \n",
        "\n",
        "df10.show()\n",
        "\n",
        "\n",
        "\n",
        "end = time.time()\n",
        "print(f\"Uplynelo {end-start} sekund\")"
      ],
      "metadata": {
        "colab": {
          "base_uri": "https://localhost:8080/"
        },
        "id": "qpuAxpuuOPWU",
        "outputId": "18b1583e-d257-47e9-fcdd-cd24f74aceec"
      },
      "execution_count": 16,
      "outputs": [
        {
          "output_type": "stream",
          "name": "stdout",
          "text": [
            "+--------------------+----+----+----+----+----+----+----+----+----+----+-----+---+----+----+----+----+----+----+----+----+----+----+----+----+---+----+----+----+----+----+----+----+----+----+----+-----+-----+-----+-----+-----+-----+-----+-----+-----+----+----+-----+-----+-----+-----+-----+---+-----+-----+-----+-----+----+-----+----+-----+----+----+----+----+----+----+----+----+----+----+----+----+----+----+----+----+----+----+\n",
            "|       nazwa_ksiazki|   !|   \"|   #|   $|   %|   &|   '|   (|   )|   *|    ,|  -|   .|   /|   0|   1|   2|   3|   4|   5|   6|   7|   8|   9|  :|   ;|   <|   >|   ?|   @|   [|   ]|   ^|   _|   `|    a|    b|    c|    d|    e|    f|    g|    h|    i|   j|   k|    l|    m|    n|    o|    p|  q|    r|    s|    t|    u|   v|    w|   x|    y|   z|   ||   £|   à|   æ|   ç|   é|   ê|   ï|   œ|   –|   —|   ‘|   ’|   “|   ”|   …|   �|\n",
            "+--------------------+----+----+----+----+----+----+----+----+----+----+-----+---+----+----+----+----+----+----+----+----+----+----+----+----+---+----+----+----+----+----+----+----+----+----+----+-----+-----+-----+-----+-----+-----+-----+-----+-----+----+----+-----+-----+-----+-----+-----+---+-----+-----+-----+-----+----+-----+----+-----+----+----+----+----+----+----+----+----+----+----+----+----+----+----+----+----+----+----+\n",
            "|The-Secret-of-Pop...|  67|null|   6|   2|null|null|  16|   5|   5|  31| 3128|106|4225|   1|  24|  37|  15|  12|   7|   9|   8|   6|   8|   7| 14|   6|null|null| 400|null|null|null|null|null|null|17918| 4331| 5515|11186|30042| 4329| 5545|16290|14824| 373|2571| 9312| 4651|14978|15276| 4061|231|12001|14116|19229| 6376|1811| 5442| 280| 4649| 219|null|null|   1|null|null|   3|null|   1|null|null| 101|   1|1586|1062|1062|  98|null|\n",
            "|Sense-and-Sensibi...| 562|3106|null|   2|   1|   6| 921|  53|  53|  22|10045|443|5131|  25|  32| 100|  39|  42|  39|  24|  21|  17|  21|  19| 82|1572|null|null| 451|   2|   2|   2|null|null|null|41525| 8197|13131|22840|68487|12605| 9949|32882|37695|1036|2910|21112|14966|39467|43316| 8485|615|34474|33528|46585|15216|5983|12917| 942|11994|  71|null|null|null|null|null|null|null|null|null|null|1178|null|null|null|null|null|null|\n",
            "|From-the-Earth-to...| 650|null|null|  13|null|null|null|  40|  40|null| 7551|475|4496|   2| 671| 204| 169|  87| 115| 113|  77|  59|  82|  40| 76| 877|null|null| 570|  45|   8|   8|   3|   2|  27|32296| 7379|13608|16584|55358| 9911| 6856|25663|30620| 936|2005|17537|10084|29314|31670| 8474|577|25161|26286|41810|11773|4083| 8498|1014| 6476| 267|null|null|null|null|null|null|null|null|null|  29| 129|   1| 364|2010|1998|   2|null|\n",
            "|Pride-and-Prejudi...| 499|null|   1|   2|   1|null|   2|  38|  38|  28| 9279|404|6393|  26|  32|  99|  50|  49|  46|  45|  26|  18|  23|  22|153|1538|null|null| 463|   2|   1|   1|null|null|null|42741| 9357|14114|22843|71220|12379|10436|34638|38932| 966|3339|22066|15123|38710|41354| 8738|638|33513|33855|48191|15498|5841|12568| 866|13026| 938|null|null|   4|null|null|   1|   8|null|null|null| 395|  19| 727|1802|1751|null|null|\n",
            "|    Alien-Cradle.txt|  64|3102|null|null|null|null|2435|   2|   2|null| 3895|227|7164|   1|   7|   3|null|   2|  13|   3|   1|null|null|null|  2| 108|null|null| 620|null|null|null|null|null|null|29478| 5484|11443|15684|49721| 8324| 7902|22583|27379| 865|3494|15593| 8778|27107|30709| 7553|399|22886|24232|39551|11802|3736| 8442| 697| 7393| 262|null|null|null|null|null|null|null|null|null|null|null|null|null|null|null|null|null|\n",
            "|The-Cat-of-Bubast...| 113|  22|   1|   2|   1|null|   7|  24|  24|  28| 7323|327|5251|  31|  22|  65|  27|  18|  18|  28|  18|  14|  15|  17| 59| 830|null|null| 282|   2|  13|  13|null|null|null|43242| 9015|12376|22876|70163|12916|10681|37098|32839|1021|3467|19420|12620|34161|41337| 9390|391|32305|32571|52471|15716|4767|12908| 731|10551| 146|null|null|null|   8|null|   2|   1|null|   1|null| 146|  47| 355|1495|1387|null|null|\n",
            "|     Dark-Desire.txt|  63|null|null|   1|   1|   1|   9|   7|   7|null| 3604| 77|3659|   6|  12|  40|  13|   9|   8|   8|   7|   8|   8|   7|  8| 108|   4|   4| 389|   1|null|null|null|null|null|15840| 3270| 3969|10647|24641| 3813| 3491|12065|13668| 325|2564| 7782| 5910|12973|15215| 3357|121| 9509|10929|18881| 5911|1546| 5678| 426| 4482|  96|   2|null|null|null|   2|   5|null|   1|null|null|   5|   4|1918| 804| 806|  56|null|\n",
            "|The-Window-at-the...| 197|null|null|null|null|null|null|   1|   1|  27| 5135|429|4376|null|   2|   7|   4|   3|   1|   1|   2|   1|   1|   1|104| 294|null|null| 448|null|null|null|null|   4|   1|23348| 4308| 6104|13980|35622| 5871| 5953|18633|20032| 340|2898|11266| 7489|19529|21328| 4746|209|15952|16459|26632| 7715|2401| 7561| 516| 5663| 264|null|null|null|null|null|null|null|null|null|null| 497|  58|1180|1786|1764|null|  10|\n",
            "|  Mansfield-Park.txt| 497|null|   1|   2|   1|null|1142|  80|  80|  28|12587|626|7110|  25|  28|  75|  22|  14|  18|  12|   7|   6|  12|   9|360|2260|null|null| 471|   2|   2|   2|null|null|null|56281|11116|16962|30166|87273|17513|14128|43786|47284|1007|4335|26364|19038|51551|55259|11329|816|43928|44817|61795|20937|7460|17105|1168|15509|  87|null|   4|null|null|null|null|null|null|null|null| 413|null|null|1657|1657|null|null|\n",
            "|The-Restless-Sex.txt|null|null|null|null|null|null|null|null|null|null|    3|  3|  10|null|null|null|null|null|null|null|null|null|null|null|  1|   2|null|null|null|null|null|null|null|null|null|   27|    3|   13|   14|   55|   13|    8|   10|   39|null|   4|   29|    7|   30|   28|    5|  2|   26|   29|   35|   10|   5|    3|   3|   15|null|null|null|null|null|null|null|null|null|null|null|null|null|null|null|null|null|null|\n",
            "+--------------------+----+----+----+----+----+----+----+----+----+----+-----+---+----+----+----+----+----+----+----+----+----+----+----+----+---+----+----+----+----+----+----+----+----+----+----+-----+-----+-----+-----+-----+-----+-----+-----+-----+----+----+-----+-----+-----+-----+-----+---+-----+-----+-----+-----+----+-----+----+-----+----+----+----+----+----+----+----+----+----+----+----+----+----+----+----+----+----+----+\n",
            "\n",
            "Uplynelo 8.408800601959229 sekund\n"
          ]
        }
      ]
    },
    {
      "cell_type": "code",
      "source": [
        "x30 = [\"Dark-Desire.txt\", \"Mansfield-Park.txt\", \"Pride-and-Prejudice.txt\", \n",
        "       \"Sense-and-Sensibility.txt\", \"The-Secret-of-Poppyridge-Cove.txt\", \"Alien-Cradle.txt\", \n",
        "       \"From-the-Earth-to-the-Moon.txt\", \"The-Cat-of-Bubastes.txt\", \"The-Restless-Sex.txt\", \n",
        "       \"The-Window-at-the-White-Cat.txt\",\"Bones-in-London.txt\", \"The-Mad-King.txt\", \n",
        "       \"Beyond-The-Rocks.txt\", \"Simon-Called-Peter.txt\", \"Smiles.txt\",\"The-Demon-Girl.txt\",\n",
        "       \"The-Story-of-Don-Quixote.txt\", \"Arms-and-the-Woman.txt\", \"The-Bandbox.txt\", \"Camille.txt\", \n",
        "       \"Adrift-in-New-York.txt\", \"An-Amiable-Charlatan-.txt\", \"Induction.txt\", \"Tales-of-Terror--Mystery.txt\",\n",
        "       \"Tesla.txt\", \"The-Avenger.txt\", \"The-Bishop's-Secret.txt\", \"The-Blonde-Lady.txt\", \"The-Eye-of-Osiris.txt\", \n",
        "       \"The-Phantom-of-the-Opera.txt\"]\n",
        "url_git30 = \"https://raw.githubusercontent.com/lisaborysenko/Zadanie_Big_Data/main/\"\n",
        "\n",
        "ksiazki30 = []\n",
        "import urllib.request\n",
        "for i in x30:\n",
        "    url30 = url_git30 + i\n",
        "    print(url30)\n",
        "    with urllib.request.urlopen(url30) as f:\n",
        "        ksiazka30 = f.read().decode()\n",
        "        ksiazki30.append(ksiazka30)"
      ],
      "metadata": {
        "colab": {
          "base_uri": "https://localhost:8080/"
        },
        "id": "OtDQRIWhOSat",
        "outputId": "f363dfc1-6f0d-476b-af75-41b7b45c731b"
      },
      "execution_count": 17,
      "outputs": [
        {
          "output_type": "stream",
          "name": "stdout",
          "text": [
            "https://raw.githubusercontent.com/lisaborysenko/Zadanie_Big_Data/main/Dark-Desire.txt\n",
            "https://raw.githubusercontent.com/lisaborysenko/Zadanie_Big_Data/main/Mansfield-Park.txt\n",
            "https://raw.githubusercontent.com/lisaborysenko/Zadanie_Big_Data/main/Pride-and-Prejudice.txt\n",
            "https://raw.githubusercontent.com/lisaborysenko/Zadanie_Big_Data/main/Sense-and-Sensibility.txt\n",
            "https://raw.githubusercontent.com/lisaborysenko/Zadanie_Big_Data/main/The-Secret-of-Poppyridge-Cove.txt\n",
            "https://raw.githubusercontent.com/lisaborysenko/Zadanie_Big_Data/main/Alien-Cradle.txt\n",
            "https://raw.githubusercontent.com/lisaborysenko/Zadanie_Big_Data/main/From-the-Earth-to-the-Moon.txt\n",
            "https://raw.githubusercontent.com/lisaborysenko/Zadanie_Big_Data/main/The-Cat-of-Bubastes.txt\n",
            "https://raw.githubusercontent.com/lisaborysenko/Zadanie_Big_Data/main/The-Restless-Sex.txt\n",
            "https://raw.githubusercontent.com/lisaborysenko/Zadanie_Big_Data/main/The-Window-at-the-White-Cat.txt\n",
            "https://raw.githubusercontent.com/lisaborysenko/Zadanie_Big_Data/main/Bones-in-London.txt\n",
            "https://raw.githubusercontent.com/lisaborysenko/Zadanie_Big_Data/main/The-Mad-King.txt\n",
            "https://raw.githubusercontent.com/lisaborysenko/Zadanie_Big_Data/main/Beyond-The-Rocks.txt\n",
            "https://raw.githubusercontent.com/lisaborysenko/Zadanie_Big_Data/main/Simon-Called-Peter.txt\n",
            "https://raw.githubusercontent.com/lisaborysenko/Zadanie_Big_Data/main/Smiles.txt\n",
            "https://raw.githubusercontent.com/lisaborysenko/Zadanie_Big_Data/main/The-Demon-Girl.txt\n",
            "https://raw.githubusercontent.com/lisaborysenko/Zadanie_Big_Data/main/The-Story-of-Don-Quixote.txt\n",
            "https://raw.githubusercontent.com/lisaborysenko/Zadanie_Big_Data/main/Arms-and-the-Woman.txt\n",
            "https://raw.githubusercontent.com/lisaborysenko/Zadanie_Big_Data/main/The-Bandbox.txt\n",
            "https://raw.githubusercontent.com/lisaborysenko/Zadanie_Big_Data/main/Camille.txt\n",
            "https://raw.githubusercontent.com/lisaborysenko/Zadanie_Big_Data/main/Adrift-in-New-York.txt\n",
            "https://raw.githubusercontent.com/lisaborysenko/Zadanie_Big_Data/main/An-Amiable-Charlatan-.txt\n",
            "https://raw.githubusercontent.com/lisaborysenko/Zadanie_Big_Data/main/Induction.txt\n",
            "https://raw.githubusercontent.com/lisaborysenko/Zadanie_Big_Data/main/Tales-of-Terror--Mystery.txt\n",
            "https://raw.githubusercontent.com/lisaborysenko/Zadanie_Big_Data/main/Tesla.txt\n",
            "https://raw.githubusercontent.com/lisaborysenko/Zadanie_Big_Data/main/The-Avenger.txt\n",
            "https://raw.githubusercontent.com/lisaborysenko/Zadanie_Big_Data/main/The-Bishop's-Secret.txt\n",
            "https://raw.githubusercontent.com/lisaborysenko/Zadanie_Big_Data/main/The-Blonde-Lady.txt\n",
            "https://raw.githubusercontent.com/lisaborysenko/Zadanie_Big_Data/main/The-Eye-of-Osiris.txt\n",
            "https://raw.githubusercontent.com/lisaborysenko/Zadanie_Big_Data/main/The-Phantom-of-the-Opera.txt\n"
          ]
        }
      ]
    },
    {
      "cell_type": "code",
      "source": [
        "#RDD\n",
        "#mozemy zauwazyc ze czas wykonania tego zadania za pomoca RDD pobil wszystkie rekordy i trwa srednio od 70 sekund \n",
        "start= time.time()\n",
        "for i, ksiazka30 in enumerate(ksiazki30):\n",
        "    znaki30 = sc.parallelize(ksiazka30.lower().split())\n",
        "    liczba30 = znaki30.flatMap(lambda x20: list(x30)).map(lambda x30: (x30, 1)).reduceByKey(lambda x30, y: x30 + y).collect()\n",
        "    print(f\"{x30[i]} {liczba30}\")\n",
        "\n",
        "end = time.time()\n",
        "print(f\"Uplynelo {end-start} sekund\") "
      ],
      "metadata": {
        "colab": {
          "base_uri": "https://localhost:8080/"
        },
        "id": "J9csEjFxOVcC",
        "outputId": "d1ea65c1-b282-4951-f0e4-8df5ed2b86f9"
      },
      "execution_count": 21,
      "outputs": [
        {
          "output_type": "stream",
          "name": "stdout",
          "text": [
            "Dark-Desire.txt [('Mansfield-Park.txt', 50809), ('Sense-and-Sensibility.txt', 50809), ('The-Secret-of-Poppyridge-Cove.txt', 50809), ('From-the-Earth-to-the-Moon.txt', 50809), ('The-Cat-of-Bubastes.txt', 50809), ('Bones-in-London.txt', 50809), ('Beyond-The-Rocks.txt', 50809), ('Smiles.txt', 50809), ('The-Demon-Girl.txt', 50809), ('Arms-and-the-Woman.txt', 50809), ('Camille.txt', 50809), ('Adrift-in-New-York.txt', 50809), ('An-Amiable-Charlatan-.txt', 50809), ('Induction.txt', 50809), ('Tales-of-Terror--Mystery.txt', 50809), ('Tesla.txt', 50809), (\"The-Bishop's-Secret.txt\", 50809), ('The-Blonde-Lady.txt', 50809), ('Dark-Desire.txt', 50809), ('Pride-and-Prejudice.txt', 50809), ('Alien-Cradle.txt', 50809), ('The-Restless-Sex.txt', 50809), ('The-Window-at-the-White-Cat.txt', 50809), ('The-Mad-King.txt', 50809), ('Simon-Called-Peter.txt', 50809), ('The-Story-of-Don-Quixote.txt', 50809), ('The-Bandbox.txt', 50809), ('The-Avenger.txt', 50809), ('The-Eye-of-Osiris.txt', 50809), ('The-Phantom-of-the-Opera.txt', 50809)]\n",
            "Mansfield-Park.txt [('Mansfield-Park.txt', 162605), ('Sense-and-Sensibility.txt', 162605), ('The-Secret-of-Poppyridge-Cove.txt', 162605), ('From-the-Earth-to-the-Moon.txt', 162605), ('The-Cat-of-Bubastes.txt', 162605), ('Bones-in-London.txt', 162605), ('Beyond-The-Rocks.txt', 162605), ('Smiles.txt', 162605), ('The-Demon-Girl.txt', 162605), ('Arms-and-the-Woman.txt', 162605), ('Camille.txt', 162605), ('Adrift-in-New-York.txt', 162605), ('An-Amiable-Charlatan-.txt', 162605), ('Induction.txt', 162605), ('Tales-of-Terror--Mystery.txt', 162605), ('Tesla.txt', 162605), (\"The-Bishop's-Secret.txt\", 162605), ('The-Blonde-Lady.txt', 162605), ('Dark-Desire.txt', 162605), ('Pride-and-Prejudice.txt', 162605), ('Alien-Cradle.txt', 162605), ('The-Restless-Sex.txt', 162605), ('The-Window-at-the-White-Cat.txt', 162605), ('The-Mad-King.txt', 162605), ('Simon-Called-Peter.txt', 162605), ('The-Story-of-Don-Quixote.txt', 162605), ('The-Bandbox.txt', 162605), ('The-Avenger.txt', 162605), ('The-Eye-of-Osiris.txt', 162605), ('The-Phantom-of-the-Opera.txt', 162605)]\n",
            "Pride-and-Prejudice.txt [('Mansfield-Park.txt', 124636), ('Sense-and-Sensibility.txt', 124636), ('The-Secret-of-Poppyridge-Cove.txt', 124636), ('From-the-Earth-to-the-Moon.txt', 124636), ('The-Cat-of-Bubastes.txt', 124636), ('Bones-in-London.txt', 124636), ('Beyond-The-Rocks.txt', 124636), ('Smiles.txt', 124636), ('The-Demon-Girl.txt', 124636), ('Arms-and-the-Woman.txt', 124636), ('Camille.txt', 124636), ('Adrift-in-New-York.txt', 124636), ('An-Amiable-Charlatan-.txt', 124636), ('Induction.txt', 124636), ('Tales-of-Terror--Mystery.txt', 124636), ('Tesla.txt', 124636), (\"The-Bishop's-Secret.txt\", 124636), ('The-Blonde-Lady.txt', 124636), ('Dark-Desire.txt', 124636), ('Pride-and-Prejudice.txt', 124636), ('Alien-Cradle.txt', 124636), ('The-Restless-Sex.txt', 124636), ('The-Window-at-the-White-Cat.txt', 124636), ('The-Mad-King.txt', 124636), ('Simon-Called-Peter.txt', 124636), ('The-Story-of-Don-Quixote.txt', 124636), ('The-Bandbox.txt', 124636), ('The-Avenger.txt', 124636), ('The-Eye-of-Osiris.txt', 124636), ('The-Phantom-of-the-Opera.txt', 124636)]\n",
            "Sense-and-Sensibility.txt [('Mansfield-Park.txt', 121785), ('Sense-and-Sensibility.txt', 121785), ('The-Secret-of-Poppyridge-Cove.txt', 121785), ('From-the-Earth-to-the-Moon.txt', 121785), ('The-Cat-of-Bubastes.txt', 121785), ('Bones-in-London.txt', 121785), ('Beyond-The-Rocks.txt', 121785), ('Smiles.txt', 121785), ('The-Demon-Girl.txt', 121785), ('Arms-and-the-Woman.txt', 121785), ('Camille.txt', 121785), ('Adrift-in-New-York.txt', 121785), ('An-Amiable-Charlatan-.txt', 121785), ('Induction.txt', 121785), ('Tales-of-Terror--Mystery.txt', 121785), ('Tesla.txt', 121785), (\"The-Bishop's-Secret.txt\", 121785), ('The-Blonde-Lady.txt', 121785), ('Dark-Desire.txt', 121785), ('Pride-and-Prejudice.txt', 121785), ('Alien-Cradle.txt', 121785), ('The-Restless-Sex.txt', 121785), ('The-Window-at-the-White-Cat.txt', 121785), ('The-Mad-King.txt', 121785), ('Simon-Called-Peter.txt', 121785), ('The-Story-of-Don-Quixote.txt', 121785), ('The-Bandbox.txt', 121785), ('The-Avenger.txt', 121785), ('The-Eye-of-Osiris.txt', 121785), ('The-Phantom-of-the-Opera.txt', 121785)]\n",
            "The-Secret-of-Poppyridge-Cove.txt [('Mansfield-Park.txt', 52592), ('Sense-and-Sensibility.txt', 52592), ('The-Secret-of-Poppyridge-Cove.txt', 52592), ('From-the-Earth-to-the-Moon.txt', 52592), ('The-Cat-of-Bubastes.txt', 52592), ('Bones-in-London.txt', 52592), ('Beyond-The-Rocks.txt', 52592), ('Smiles.txt', 52592), ('The-Demon-Girl.txt', 52592), ('Arms-and-the-Woman.txt', 52592), ('Camille.txt', 52592), ('Adrift-in-New-York.txt', 52592), ('An-Amiable-Charlatan-.txt', 52592), ('Induction.txt', 52592), ('Tales-of-Terror--Mystery.txt', 52592), ('Tesla.txt', 52592), (\"The-Bishop's-Secret.txt\", 52592), ('The-Blonde-Lady.txt', 52592), ('Dark-Desire.txt', 52592), ('Pride-and-Prejudice.txt', 52592), ('Alien-Cradle.txt', 52592), ('The-Restless-Sex.txt', 52592), ('The-Window-at-the-White-Cat.txt', 52592), ('The-Mad-King.txt', 52592), ('Simon-Called-Peter.txt', 52592), ('The-Story-of-Don-Quixote.txt', 52592), ('The-Bandbox.txt', 52592), ('The-Avenger.txt', 52592), ('The-Eye-of-Osiris.txt', 52592), ('The-Phantom-of-the-Opera.txt', 52592)]\n",
            "Alien-Cradle.txt [('Mansfield-Park.txt', 85923), ('Sense-and-Sensibility.txt', 85923), ('The-Secret-of-Poppyridge-Cove.txt', 85923), ('From-the-Earth-to-the-Moon.txt', 85923), ('The-Cat-of-Bubastes.txt', 85923), ('Bones-in-London.txt', 85923), ('Beyond-The-Rocks.txt', 85923), ('Smiles.txt', 85923), ('The-Demon-Girl.txt', 85923), ('Arms-and-the-Woman.txt', 85923), ('Camille.txt', 85923), ('Adrift-in-New-York.txt', 85923), ('An-Amiable-Charlatan-.txt', 85923), ('Induction.txt', 85923), ('Tales-of-Terror--Mystery.txt', 85923), ('Tesla.txt', 85923), (\"The-Bishop's-Secret.txt\", 85923), ('The-Blonde-Lady.txt', 85923), ('Dark-Desire.txt', 85923), ('Pride-and-Prejudice.txt', 85923), ('Alien-Cradle.txt', 85923), ('The-Restless-Sex.txt', 85923), ('The-Window-at-the-White-Cat.txt', 85923), ('The-Mad-King.txt', 85923), ('Simon-Called-Peter.txt', 85923), ('The-Story-of-Don-Quixote.txt', 85923), ('The-Bandbox.txt', 85923), ('The-Avenger.txt', 85923), ('The-Eye-of-Osiris.txt', 85923), ('The-Phantom-of-the-Opera.txt', 85923)]\n",
            "From-the-Earth-to-the-Moon.txt [('Mansfield-Park.txt', 90616), ('Sense-and-Sensibility.txt', 90616), ('The-Secret-of-Poppyridge-Cove.txt', 90616), ('From-the-Earth-to-the-Moon.txt', 90616), ('The-Cat-of-Bubastes.txt', 90616), ('Bones-in-London.txt', 90616), ('Beyond-The-Rocks.txt', 90616), ('Smiles.txt', 90616), ('The-Demon-Girl.txt', 90616), ('Arms-and-the-Woman.txt', 90616), ('Camille.txt', 90616), ('Adrift-in-New-York.txt', 90616), ('An-Amiable-Charlatan-.txt', 90616), ('Induction.txt', 90616), ('Tales-of-Terror--Mystery.txt', 90616), ('Tesla.txt', 90616), (\"The-Bishop's-Secret.txt\", 90616), ('The-Blonde-Lady.txt', 90616), ('Dark-Desire.txt', 90616), ('Pride-and-Prejudice.txt', 90616), ('Alien-Cradle.txt', 90616), ('The-Restless-Sex.txt', 90616), ('The-Window-at-the-White-Cat.txt', 90616), ('The-Mad-King.txt', 90616), ('Simon-Called-Peter.txt', 90616), ('The-Story-of-Don-Quixote.txt', 90616), ('The-Bandbox.txt', 90616), ('The-Avenger.txt', 90616), ('The-Eye-of-Osiris.txt', 90616), ('The-Phantom-of-the-Opera.txt', 90616)]\n",
            "The-Cat-of-Bubastes.txt [('Mansfield-Park.txt', 125197), ('Sense-and-Sensibility.txt', 125197), ('The-Secret-of-Poppyridge-Cove.txt', 125197), ('From-the-Earth-to-the-Moon.txt', 125197), ('The-Cat-of-Bubastes.txt', 125197), ('Bones-in-London.txt', 125197), ('Beyond-The-Rocks.txt', 125197), ('Smiles.txt', 125197), ('The-Demon-Girl.txt', 125197), ('Arms-and-the-Woman.txt', 125197), ('Camille.txt', 125197), ('Adrift-in-New-York.txt', 125197), ('An-Amiable-Charlatan-.txt', 125197), ('Induction.txt', 125197), ('Tales-of-Terror--Mystery.txt', 125197), ('Tesla.txt', 125197), (\"The-Bishop's-Secret.txt\", 125197), ('The-Blonde-Lady.txt', 125197), ('Dark-Desire.txt', 125197), ('Pride-and-Prejudice.txt', 125197), ('Alien-Cradle.txt', 125197), ('The-Restless-Sex.txt', 125197), ('The-Window-at-the-White-Cat.txt', 125197), ('The-Mad-King.txt', 125197), ('Simon-Called-Peter.txt', 125197), ('The-Story-of-Don-Quixote.txt', 125197), ('The-Bandbox.txt', 125197), ('The-Avenger.txt', 125197), ('The-Eye-of-Osiris.txt', 125197), ('The-Phantom-of-the-Opera.txt', 125197)]\n",
            "The-Restless-Sex.txt [('Mansfield-Park.txt', 68), ('Sense-and-Sensibility.txt', 68), ('The-Secret-of-Poppyridge-Cove.txt', 68), ('From-the-Earth-to-the-Moon.txt', 68), ('The-Cat-of-Bubastes.txt', 68), ('Bones-in-London.txt', 68), ('Beyond-The-Rocks.txt', 68), ('Smiles.txt', 68), ('The-Demon-Girl.txt', 68), ('Arms-and-the-Woman.txt', 68), ('Camille.txt', 68), ('Adrift-in-New-York.txt', 68), ('An-Amiable-Charlatan-.txt', 68), ('Induction.txt', 68), ('Tales-of-Terror--Mystery.txt', 68), ('Tesla.txt', 68), (\"The-Bishop's-Secret.txt\", 68), ('The-Blonde-Lady.txt', 68), ('Dark-Desire.txt', 68), ('Pride-and-Prejudice.txt', 68), ('Alien-Cradle.txt', 68), ('The-Restless-Sex.txt', 68), ('The-Window-at-the-White-Cat.txt', 68), ('The-Mad-King.txt', 68), ('Simon-Called-Peter.txt', 68), ('The-Story-of-Don-Quixote.txt', 68), ('The-Bandbox.txt', 68), ('The-Avenger.txt', 68), ('The-Eye-of-Osiris.txt', 68), ('The-Phantom-of-the-Opera.txt', 68)]\n",
            "The-Window-at-the-White-Cat.txt [('Mansfield-Park.txt', 68334), ('Sense-and-Sensibility.txt', 68334), ('The-Secret-of-Poppyridge-Cove.txt', 68334), ('From-the-Earth-to-the-Moon.txt', 68334), ('The-Cat-of-Bubastes.txt', 68334), ('Bones-in-London.txt', 68334), ('Beyond-The-Rocks.txt', 68334), ('Smiles.txt', 68334), ('The-Demon-Girl.txt', 68334), ('Arms-and-the-Woman.txt', 68334), ('Camille.txt', 68334), ('Adrift-in-New-York.txt', 68334), ('An-Amiable-Charlatan-.txt', 68334), ('Induction.txt', 68334), ('Tales-of-Terror--Mystery.txt', 68334), ('Tesla.txt', 68334), (\"The-Bishop's-Secret.txt\", 68334), ('The-Blonde-Lady.txt', 68334), ('Dark-Desire.txt', 68334), ('Pride-and-Prejudice.txt', 68334), ('Alien-Cradle.txt', 68334), ('The-Restless-Sex.txt', 68334), ('The-Window-at-the-White-Cat.txt', 68334), ('The-Mad-King.txt', 68334), ('Simon-Called-Peter.txt', 68334), ('The-Story-of-Don-Quixote.txt', 68334), ('The-Bandbox.txt', 68334), ('The-Avenger.txt', 68334), ('The-Eye-of-Osiris.txt', 68334), ('The-Phantom-of-the-Opera.txt', 68334)]\n",
            "Bones-in-London.txt [('Mansfield-Park.txt', 64769), ('Sense-and-Sensibility.txt', 64769), ('The-Secret-of-Poppyridge-Cove.txt', 64769), ('From-the-Earth-to-the-Moon.txt', 64769), ('The-Cat-of-Bubastes.txt', 64769), ('Bones-in-London.txt', 64769), ('Beyond-The-Rocks.txt', 64769), ('Smiles.txt', 64769), ('The-Demon-Girl.txt', 64769), ('Arms-and-the-Woman.txt', 64769), ('Camille.txt', 64769), ('Adrift-in-New-York.txt', 64769), ('An-Amiable-Charlatan-.txt', 64769), ('Induction.txt', 64769), ('Tales-of-Terror--Mystery.txt', 64769), ('Tesla.txt', 64769), (\"The-Bishop's-Secret.txt\", 64769), ('The-Blonde-Lady.txt', 64769), ('Dark-Desire.txt', 64769), ('Pride-and-Prejudice.txt', 64769), ('Alien-Cradle.txt', 64769), ('The-Restless-Sex.txt', 64769), ('The-Window-at-the-White-Cat.txt', 64769), ('The-Mad-King.txt', 64769), ('Simon-Called-Peter.txt', 64769), ('The-Story-of-Don-Quixote.txt', 64769), ('The-Bandbox.txt', 64769), ('The-Avenger.txt', 64769), ('The-Eye-of-Osiris.txt', 64769), ('The-Phantom-of-the-Opera.txt', 64769)]\n",
            "The-Mad-King.txt [('Mansfield-Park.txt', 96110), ('Sense-and-Sensibility.txt', 96110), ('The-Secret-of-Poppyridge-Cove.txt', 96110), ('From-the-Earth-to-the-Moon.txt', 96110), ('The-Cat-of-Bubastes.txt', 96110), ('Bones-in-London.txt', 96110), ('Beyond-The-Rocks.txt', 96110), ('Smiles.txt', 96110), ('The-Demon-Girl.txt', 96110), ('Arms-and-the-Woman.txt', 96110), ('Camille.txt', 96110), ('Adrift-in-New-York.txt', 96110), ('An-Amiable-Charlatan-.txt', 96110), ('Induction.txt', 96110), ('Tales-of-Terror--Mystery.txt', 96110), ('Tesla.txt', 96110), (\"The-Bishop's-Secret.txt\", 96110), ('The-Blonde-Lady.txt', 96110), ('Dark-Desire.txt', 96110), ('Pride-and-Prejudice.txt', 96110), ('Alien-Cradle.txt', 96110), ('The-Restless-Sex.txt', 96110), ('The-Window-at-the-White-Cat.txt', 96110), ('The-Mad-King.txt', 96110), ('Simon-Called-Peter.txt', 96110), ('The-Story-of-Don-Quixote.txt', 96110), ('The-Bandbox.txt', 96110), ('The-Avenger.txt', 96110), ('The-Eye-of-Osiris.txt', 96110), ('The-Phantom-of-the-Opera.txt', 96110)]\n",
            "Beyond-The-Rocks.txt [('Mansfield-Park.txt', 67746), ('Sense-and-Sensibility.txt', 67746), ('The-Secret-of-Poppyridge-Cove.txt', 67746), ('From-the-Earth-to-the-Moon.txt', 67746), ('The-Cat-of-Bubastes.txt', 67746), ('Bones-in-London.txt', 67746), ('Beyond-The-Rocks.txt', 67746), ('Smiles.txt', 67746), ('The-Demon-Girl.txt', 67746), ('Arms-and-the-Woman.txt', 67746), ('Camille.txt', 67746), ('Adrift-in-New-York.txt', 67746), ('An-Amiable-Charlatan-.txt', 67746), ('Induction.txt', 67746), ('Tales-of-Terror--Mystery.txt', 67746), ('Tesla.txt', 67746), (\"The-Bishop's-Secret.txt\", 67746), ('The-Blonde-Lady.txt', 67746), ('Dark-Desire.txt', 67746), ('Pride-and-Prejudice.txt', 67746), ('Alien-Cradle.txt', 67746), ('The-Restless-Sex.txt', 67746), ('The-Window-at-the-White-Cat.txt', 67746), ('The-Mad-King.txt', 67746), ('Simon-Called-Peter.txt', 67746), ('The-Story-of-Don-Quixote.txt', 67746), ('The-Bandbox.txt', 67746), ('The-Avenger.txt', 67746), ('The-Eye-of-Osiris.txt', 67746), ('The-Phantom-of-the-Opera.txt', 67746)]\n",
            "Simon-Called-Peter.txt [('Mansfield-Park.txt', 116223), ('Sense-and-Sensibility.txt', 116223), ('The-Secret-of-Poppyridge-Cove.txt', 116223), ('From-the-Earth-to-the-Moon.txt', 116223), ('The-Cat-of-Bubastes.txt', 116223), ('Bones-in-London.txt', 116223), ('Beyond-The-Rocks.txt', 116223), ('Smiles.txt', 116223), ('The-Demon-Girl.txt', 116223), ('Arms-and-the-Woman.txt', 116223), ('Camille.txt', 116223), ('Adrift-in-New-York.txt', 116223), ('An-Amiable-Charlatan-.txt', 116223), ('Induction.txt', 116223), ('Tales-of-Terror--Mystery.txt', 116223), ('Tesla.txt', 116223), (\"The-Bishop's-Secret.txt\", 116223), ('The-Blonde-Lady.txt', 116223), ('Dark-Desire.txt', 116223), ('Pride-and-Prejudice.txt', 116223), ('Alien-Cradle.txt', 116223), ('The-Restless-Sex.txt', 116223), ('The-Window-at-the-White-Cat.txt', 116223), ('The-Mad-King.txt', 116223), ('Simon-Called-Peter.txt', 116223), ('The-Story-of-Don-Quixote.txt', 116223), ('The-Bandbox.txt', 116223), ('The-Avenger.txt', 116223), ('The-Eye-of-Osiris.txt', 116223), ('The-Phantom-of-the-Opera.txt', 116223)]\n",
            "Smiles.txt [('Mansfield-Park.txt', 98197), ('Sense-and-Sensibility.txt', 98197), ('The-Secret-of-Poppyridge-Cove.txt', 98197), ('From-the-Earth-to-the-Moon.txt', 98197), ('The-Cat-of-Bubastes.txt', 98197), ('Bones-in-London.txt', 98197), ('Beyond-The-Rocks.txt', 98197), ('Smiles.txt', 98197), ('The-Demon-Girl.txt', 98197), ('Arms-and-the-Woman.txt', 98197), ('Camille.txt', 98197), ('Adrift-in-New-York.txt', 98197), ('An-Amiable-Charlatan-.txt', 98197), ('Induction.txt', 98197), ('Tales-of-Terror--Mystery.txt', 98197), ('Tesla.txt', 98197), (\"The-Bishop's-Secret.txt\", 98197), ('The-Blonde-Lady.txt', 98197), ('Dark-Desire.txt', 98197), ('Pride-and-Prejudice.txt', 98197), ('Alien-Cradle.txt', 98197), ('The-Restless-Sex.txt', 98197), ('The-Window-at-the-White-Cat.txt', 98197), ('The-Mad-King.txt', 98197), ('Simon-Called-Peter.txt', 98197), ('The-Story-of-Don-Quixote.txt', 98197), ('The-Bandbox.txt', 98197), ('The-Avenger.txt', 98197), ('The-Eye-of-Osiris.txt', 98197), ('The-Phantom-of-the-Opera.txt', 98197)]\n",
            "The-Demon-Girl.txt [('Mansfield-Park.txt', 76257), ('Sense-and-Sensibility.txt', 76257), ('The-Secret-of-Poppyridge-Cove.txt', 76257), ('From-the-Earth-to-the-Moon.txt', 76257), ('The-Cat-of-Bubastes.txt', 76257), ('Bones-in-London.txt', 76257), ('Beyond-The-Rocks.txt', 76257), ('Smiles.txt', 76257), ('The-Demon-Girl.txt', 76257), ('Arms-and-the-Woman.txt', 76257), ('Camille.txt', 76257), ('Adrift-in-New-York.txt', 76257), ('An-Amiable-Charlatan-.txt', 76257), ('Induction.txt', 76257), ('Tales-of-Terror--Mystery.txt', 76257), ('Tesla.txt', 76257), (\"The-Bishop's-Secret.txt\", 76257), ('The-Blonde-Lady.txt', 76257), ('Dark-Desire.txt', 76257), ('Pride-and-Prejudice.txt', 76257), ('Alien-Cradle.txt', 76257), ('The-Restless-Sex.txt', 76257), ('The-Window-at-the-White-Cat.txt', 76257), ('The-Mad-King.txt', 76257), ('Simon-Called-Peter.txt', 76257), ('The-Story-of-Don-Quixote.txt', 76257), ('The-Bandbox.txt', 76257), ('The-Avenger.txt', 76257), ('The-Eye-of-Osiris.txt', 76257), ('The-Phantom-of-the-Opera.txt', 76257)]\n",
            "The-Story-of-Don-Quixote.txt [('Mansfield-Park.txt', 100156), ('Sense-and-Sensibility.txt', 100156), ('The-Secret-of-Poppyridge-Cove.txt', 100156), ('From-the-Earth-to-the-Moon.txt', 100156), ('The-Cat-of-Bubastes.txt', 100156), ('Bones-in-London.txt', 100156), ('Beyond-The-Rocks.txt', 100156), ('Smiles.txt', 100156), ('The-Demon-Girl.txt', 100156), ('Arms-and-the-Woman.txt', 100156), ('Camille.txt', 100156), ('Adrift-in-New-York.txt', 100156), ('An-Amiable-Charlatan-.txt', 100156), ('Induction.txt', 100156), ('Tales-of-Terror--Mystery.txt', 100156), ('Tesla.txt', 100156), (\"The-Bishop's-Secret.txt\", 100156), ('The-Blonde-Lady.txt', 100156), ('Dark-Desire.txt', 100156), ('Pride-and-Prejudice.txt', 100156), ('Alien-Cradle.txt', 100156), ('The-Restless-Sex.txt', 100156), ('The-Window-at-the-White-Cat.txt', 100156), ('The-Mad-King.txt', 100156), ('Simon-Called-Peter.txt', 100156), ('The-Story-of-Don-Quixote.txt', 100156), ('The-Bandbox.txt', 100156), ('The-Avenger.txt', 100156), ('The-Eye-of-Osiris.txt', 100156), ('The-Phantom-of-the-Opera.txt', 100156)]\n",
            "Arms-and-the-Woman.txt [('Mansfield-Park.txt', 73813), ('Sense-and-Sensibility.txt', 73813), ('The-Secret-of-Poppyridge-Cove.txt', 73813), ('From-the-Earth-to-the-Moon.txt', 73813), ('The-Cat-of-Bubastes.txt', 73813), ('Bones-in-London.txt', 73813), ('Beyond-The-Rocks.txt', 73813), ('Smiles.txt', 73813), ('The-Demon-Girl.txt', 73813), ('Arms-and-the-Woman.txt', 73813), ('Camille.txt', 73813), ('Adrift-in-New-York.txt', 73813), ('An-Amiable-Charlatan-.txt', 73813), ('Induction.txt', 73813), ('Tales-of-Terror--Mystery.txt', 73813), ('Tesla.txt', 73813), (\"The-Bishop's-Secret.txt\", 73813), ('The-Blonde-Lady.txt', 73813), ('Dark-Desire.txt', 73813), ('Pride-and-Prejudice.txt', 73813), ('Alien-Cradle.txt', 73813), ('The-Restless-Sex.txt', 73813), ('The-Window-at-the-White-Cat.txt', 73813), ('The-Mad-King.txt', 73813), ('Simon-Called-Peter.txt', 73813), ('The-Story-of-Don-Quixote.txt', 73813), ('The-Bandbox.txt', 73813), ('The-Avenger.txt', 73813), ('The-Eye-of-Osiris.txt', 73813), ('The-Phantom-of-the-Opera.txt', 73813)]\n",
            "The-Bandbox.txt [('Mansfield-Park.txt', 68708), ('Sense-and-Sensibility.txt', 68708), ('The-Secret-of-Poppyridge-Cove.txt', 68708), ('From-the-Earth-to-the-Moon.txt', 68708), ('The-Cat-of-Bubastes.txt', 68708), ('Bones-in-London.txt', 68708), ('Beyond-The-Rocks.txt', 68708), ('Smiles.txt', 68708), ('The-Demon-Girl.txt', 68708), ('Arms-and-the-Woman.txt', 68708), ('Camille.txt', 68708), ('Adrift-in-New-York.txt', 68708), ('An-Amiable-Charlatan-.txt', 68708), ('Induction.txt', 68708), ('Tales-of-Terror--Mystery.txt', 68708), ('Tesla.txt', 68708), (\"The-Bishop's-Secret.txt\", 68708), ('The-Blonde-Lady.txt', 68708), ('Dark-Desire.txt', 68708), ('Pride-and-Prejudice.txt', 68708), ('Alien-Cradle.txt', 68708), ('The-Restless-Sex.txt', 68708), ('The-Window-at-the-White-Cat.txt', 68708), ('The-Mad-King.txt', 68708), ('Simon-Called-Peter.txt', 68708), ('The-Story-of-Don-Quixote.txt', 68708), ('The-Bandbox.txt', 68708), ('The-Avenger.txt', 68708), ('The-Eye-of-Osiris.txt', 68708), ('The-Phantom-of-the-Opera.txt', 68708)]\n",
            "Camille.txt [('Mansfield-Park.txt', 68319), ('Sense-and-Sensibility.txt', 68319), ('The-Secret-of-Poppyridge-Cove.txt', 68319), ('From-the-Earth-to-the-Moon.txt', 68319), ('The-Cat-of-Bubastes.txt', 68319), ('Bones-in-London.txt', 68319), ('Beyond-The-Rocks.txt', 68319), ('Smiles.txt', 68319), ('The-Demon-Girl.txt', 68319), ('Arms-and-the-Woman.txt', 68319), ('Camille.txt', 68319), ('Adrift-in-New-York.txt', 68319), ('An-Amiable-Charlatan-.txt', 68319), ('Induction.txt', 68319), ('Tales-of-Terror--Mystery.txt', 68319), ('Tesla.txt', 68319), (\"The-Bishop's-Secret.txt\", 68319), ('The-Blonde-Lady.txt', 68319), ('Dark-Desire.txt', 68319), ('Pride-and-Prejudice.txt', 68319), ('Alien-Cradle.txt', 68319), ('The-Restless-Sex.txt', 68319), ('The-Window-at-the-White-Cat.txt', 68319), ('The-Mad-King.txt', 68319), ('Simon-Called-Peter.txt', 68319), ('The-Story-of-Don-Quixote.txt', 68319), ('The-Bandbox.txt', 68319), ('The-Avenger.txt', 68319), ('The-Eye-of-Osiris.txt', 68319), ('The-Phantom-of-the-Opera.txt', 68319)]\n",
            "Adrift-in-New-York.txt [('Mansfield-Park.txt', 57226), ('Sense-and-Sensibility.txt', 57226), ('The-Secret-of-Poppyridge-Cove.txt', 57226), ('From-the-Earth-to-the-Moon.txt', 57226), ('The-Cat-of-Bubastes.txt', 57226), ('Bones-in-London.txt', 57226), ('Beyond-The-Rocks.txt', 57226), ('Smiles.txt', 57226), ('The-Demon-Girl.txt', 57226), ('Arms-and-the-Woman.txt', 57226), ('Camille.txt', 57226), ('Adrift-in-New-York.txt', 57226), ('An-Amiable-Charlatan-.txt', 57226), ('Induction.txt', 57226), ('Tales-of-Terror--Mystery.txt', 57226), ('Tesla.txt', 57226), (\"The-Bishop's-Secret.txt\", 57226), ('The-Blonde-Lady.txt', 57226), ('Dark-Desire.txt', 57226), ('Pride-and-Prejudice.txt', 57226), ('Alien-Cradle.txt', 57226), ('The-Restless-Sex.txt', 57226), ('The-Window-at-the-White-Cat.txt', 57226), ('The-Mad-King.txt', 57226), ('Simon-Called-Peter.txt', 57226), ('The-Story-of-Don-Quixote.txt', 57226), ('The-Bandbox.txt', 57226), ('The-Avenger.txt', 57226), ('The-Eye-of-Osiris.txt', 57226), ('The-Phantom-of-the-Opera.txt', 57226)]\n",
            "An-Amiable-Charlatan-.txt [('Mansfield-Park.txt', 64980), ('Sense-and-Sensibility.txt', 64980), ('The-Secret-of-Poppyridge-Cove.txt', 64980), ('From-the-Earth-to-the-Moon.txt', 64980), ('The-Cat-of-Bubastes.txt', 64980), ('Bones-in-London.txt', 64980), ('Beyond-The-Rocks.txt', 64980), ('Smiles.txt', 64980), ('The-Demon-Girl.txt', 64980), ('Arms-and-the-Woman.txt', 64980), ('Camille.txt', 64980), ('Adrift-in-New-York.txt', 64980), ('An-Amiable-Charlatan-.txt', 64980), ('Induction.txt', 64980), ('Tales-of-Terror--Mystery.txt', 64980), ('Tesla.txt', 64980), (\"The-Bishop's-Secret.txt\", 64980), ('The-Blonde-Lady.txt', 64980), ('Dark-Desire.txt', 64980), ('Pride-and-Prejudice.txt', 64980), ('Alien-Cradle.txt', 64980), ('The-Restless-Sex.txt', 64980), ('The-Window-at-the-White-Cat.txt', 64980), ('The-Mad-King.txt', 64980), ('Simon-Called-Peter.txt', 64980), ('The-Story-of-Don-Quixote.txt', 64980), ('The-Bandbox.txt', 64980), ('The-Avenger.txt', 64980), ('The-Eye-of-Osiris.txt', 64980), ('The-Phantom-of-the-Opera.txt', 64980)]\n",
            "Induction.txt [('Mansfield-Park.txt', 53453), ('Sense-and-Sensibility.txt', 53453), ('The-Secret-of-Poppyridge-Cove.txt', 53453), ('From-the-Earth-to-the-Moon.txt', 53453), ('The-Cat-of-Bubastes.txt', 53453), ('Bones-in-London.txt', 53453), ('Beyond-The-Rocks.txt', 53453), ('Smiles.txt', 53453), ('The-Demon-Girl.txt', 53453), ('Arms-and-the-Woman.txt', 53453), ('Camille.txt', 53453), ('Adrift-in-New-York.txt', 53453), ('An-Amiable-Charlatan-.txt', 53453), ('Induction.txt', 53453), ('Tales-of-Terror--Mystery.txt', 53453), ('Tesla.txt', 53453), (\"The-Bishop's-Secret.txt\", 53453), ('The-Blonde-Lady.txt', 53453), ('Dark-Desire.txt', 53453), ('Pride-and-Prejudice.txt', 53453), ('Alien-Cradle.txt', 53453), ('The-Restless-Sex.txt', 53453), ('The-Window-at-the-White-Cat.txt', 53453), ('The-Mad-King.txt', 53453), ('Simon-Called-Peter.txt', 53453), ('The-Story-of-Don-Quixote.txt', 53453), ('The-Bandbox.txt', 53453), ('The-Avenger.txt', 53453), ('The-Eye-of-Osiris.txt', 53453), ('The-Phantom-of-the-Opera.txt', 53453)]\n",
            "Tales-of-Terror--Mystery.txt [('Mansfield-Park.txt', 76854), ('Sense-and-Sensibility.txt', 76854), ('The-Secret-of-Poppyridge-Cove.txt', 76854), ('From-the-Earth-to-the-Moon.txt', 76854), ('The-Cat-of-Bubastes.txt', 76854), ('Bones-in-London.txt', 76854), ('Beyond-The-Rocks.txt', 76854), ('Smiles.txt', 76854), ('The-Demon-Girl.txt', 76854), ('Arms-and-the-Woman.txt', 76854), ('Camille.txt', 76854), ('Adrift-in-New-York.txt', 76854), ('An-Amiable-Charlatan-.txt', 76854), ('Induction.txt', 76854), ('Tales-of-Terror--Mystery.txt', 76854), ('Tesla.txt', 76854), (\"The-Bishop's-Secret.txt\", 76854), ('The-Blonde-Lady.txt', 76854), ('Dark-Desire.txt', 76854), ('Pride-and-Prejudice.txt', 76854), ('Alien-Cradle.txt', 76854), ('The-Restless-Sex.txt', 76854), ('The-Window-at-the-White-Cat.txt', 76854), ('The-Mad-King.txt', 76854), ('Simon-Called-Peter.txt', 76854), ('The-Story-of-Don-Quixote.txt', 76854), ('The-Bandbox.txt', 76854), ('The-Avenger.txt', 76854), ('The-Eye-of-Osiris.txt', 76854), ('The-Phantom-of-the-Opera.txt', 76854)]\n",
            "Tesla.txt [('Mansfield-Park.txt', 69385), ('Sense-and-Sensibility.txt', 69385), ('The-Secret-of-Poppyridge-Cove.txt', 69385), ('From-the-Earth-to-the-Moon.txt', 69385), ('The-Cat-of-Bubastes.txt', 69385), ('Bones-in-London.txt', 69385), ('Beyond-The-Rocks.txt', 69385), ('Smiles.txt', 69385), ('The-Demon-Girl.txt', 69385), ('Arms-and-the-Woman.txt', 69385), ('Camille.txt', 69385), ('Adrift-in-New-York.txt', 69385), ('An-Amiable-Charlatan-.txt', 69385), ('Induction.txt', 69385), ('Tales-of-Terror--Mystery.txt', 69385), ('Tesla.txt', 69385), (\"The-Bishop's-Secret.txt\", 69385), ('The-Blonde-Lady.txt', 69385), ('Dark-Desire.txt', 69385), ('Pride-and-Prejudice.txt', 69385), ('Alien-Cradle.txt', 69385), ('The-Restless-Sex.txt', 69385), ('The-Window-at-the-White-Cat.txt', 69385), ('The-Mad-King.txt', 69385), ('Simon-Called-Peter.txt', 69385), ('The-Story-of-Don-Quixote.txt', 69385), ('The-Bandbox.txt', 69385), ('The-Avenger.txt', 69385), ('The-Eye-of-Osiris.txt', 69385), ('The-Phantom-of-the-Opera.txt', 69385)]\n",
            "The-Avenger.txt [('Mansfield-Park.txt', 78041), ('Sense-and-Sensibility.txt', 78041), ('The-Secret-of-Poppyridge-Cove.txt', 78041), ('From-the-Earth-to-the-Moon.txt', 78041), ('The-Cat-of-Bubastes.txt', 78041), ('Bones-in-London.txt', 78041), ('Beyond-The-Rocks.txt', 78041), ('Smiles.txt', 78041), ('The-Demon-Girl.txt', 78041), ('Arms-and-the-Woman.txt', 78041), ('Camille.txt', 78041), ('Adrift-in-New-York.txt', 78041), ('An-Amiable-Charlatan-.txt', 78041), ('Induction.txt', 78041), ('Tales-of-Terror--Mystery.txt', 78041), ('Tesla.txt', 78041), (\"The-Bishop's-Secret.txt\", 78041), ('The-Blonde-Lady.txt', 78041), ('Dark-Desire.txt', 78041), ('Pride-and-Prejudice.txt', 78041), ('Alien-Cradle.txt', 78041), ('The-Restless-Sex.txt', 78041), ('The-Window-at-the-White-Cat.txt', 78041), ('The-Mad-King.txt', 78041), ('Simon-Called-Peter.txt', 78041), ('The-Story-of-Don-Quixote.txt', 78041), ('The-Bandbox.txt', 78041), ('The-Avenger.txt', 78041), ('The-Eye-of-Osiris.txt', 78041), ('The-Phantom-of-the-Opera.txt', 78041)]\n",
            "The-Bishop's-Secret.txt [('Mansfield-Park.txt', 115076), ('Sense-and-Sensibility.txt', 115076), ('The-Secret-of-Poppyridge-Cove.txt', 115076), ('From-the-Earth-to-the-Moon.txt', 115076), ('The-Cat-of-Bubastes.txt', 115076), ('Bones-in-London.txt', 115076), ('Beyond-The-Rocks.txt', 115076), ('Smiles.txt', 115076), ('The-Demon-Girl.txt', 115076), ('Arms-and-the-Woman.txt', 115076), ('Camille.txt', 115076), ('Adrift-in-New-York.txt', 115076), ('An-Amiable-Charlatan-.txt', 115076), ('Induction.txt', 115076), ('Tales-of-Terror--Mystery.txt', 115076), ('Tesla.txt', 115076), (\"The-Bishop's-Secret.txt\", 115076), ('The-Blonde-Lady.txt', 115076), ('Dark-Desire.txt', 115076), ('Pride-and-Prejudice.txt', 115076), ('Alien-Cradle.txt', 115076), ('The-Restless-Sex.txt', 115076), ('The-Window-at-the-White-Cat.txt', 115076), ('The-Mad-King.txt', 115076), ('Simon-Called-Peter.txt', 115076), ('The-Story-of-Don-Quixote.txt', 115076), ('The-Bandbox.txt', 115076), ('The-Avenger.txt', 115076), ('The-Eye-of-Osiris.txt', 115076), ('The-Phantom-of-the-Opera.txt', 115076)]\n",
            "The-Blonde-Lady.txt [('Mansfield-Park.txt', 66051), ('Sense-and-Sensibility.txt', 66051), ('The-Secret-of-Poppyridge-Cove.txt', 66051), ('From-the-Earth-to-the-Moon.txt', 66051), ('The-Cat-of-Bubastes.txt', 66051), ('Bones-in-London.txt', 66051), ('Beyond-The-Rocks.txt', 66051), ('Smiles.txt', 66051), ('The-Demon-Girl.txt', 66051), ('Arms-and-the-Woman.txt', 66051), ('Camille.txt', 66051), ('Adrift-in-New-York.txt', 66051), ('An-Amiable-Charlatan-.txt', 66051), ('Induction.txt', 66051), ('Tales-of-Terror--Mystery.txt', 66051), ('Tesla.txt', 66051), (\"The-Bishop's-Secret.txt\", 66051), ('The-Blonde-Lady.txt', 66051), ('Dark-Desire.txt', 66051), ('Pride-and-Prejudice.txt', 66051), ('Alien-Cradle.txt', 66051), ('The-Restless-Sex.txt', 66051), ('The-Window-at-the-White-Cat.txt', 66051), ('The-Mad-King.txt', 66051), ('Simon-Called-Peter.txt', 66051), ('The-Story-of-Don-Quixote.txt', 66051), ('The-Bandbox.txt', 66051), ('The-Avenger.txt', 66051), ('The-Eye-of-Osiris.txt', 66051), ('The-Phantom-of-the-Opera.txt', 66051)]\n",
            "The-Eye-of-Osiris.txt [('Mansfield-Park.txt', 97733), ('Sense-and-Sensibility.txt', 97733), ('The-Secret-of-Poppyridge-Cove.txt', 97733), ('From-the-Earth-to-the-Moon.txt', 97733), ('The-Cat-of-Bubastes.txt', 97733), ('Bones-in-London.txt', 97733), ('Beyond-The-Rocks.txt', 97733), ('Smiles.txt', 97733), ('The-Demon-Girl.txt', 97733), ('Arms-and-the-Woman.txt', 97733), ('Camille.txt', 97733), ('Adrift-in-New-York.txt', 97733), ('An-Amiable-Charlatan-.txt', 97733), ('Induction.txt', 97733), ('Tales-of-Terror--Mystery.txt', 97733), ('Tesla.txt', 97733), (\"The-Bishop's-Secret.txt\", 97733), ('The-Blonde-Lady.txt', 97733), ('Dark-Desire.txt', 97733), ('Pride-and-Prejudice.txt', 97733), ('Alien-Cradle.txt', 97733), ('The-Restless-Sex.txt', 97733), ('The-Window-at-the-White-Cat.txt', 97733), ('The-Mad-King.txt', 97733), ('Simon-Called-Peter.txt', 97733), ('The-Story-of-Don-Quixote.txt', 97733), ('The-Bandbox.txt', 97733), ('The-Avenger.txt', 97733), ('The-Eye-of-Osiris.txt', 97733), ('The-Phantom-of-the-Opera.txt', 97733)]\n",
            "The-Phantom-of-the-Opera.txt [('Mansfield-Park.txt', 88847), ('Sense-and-Sensibility.txt', 88847), ('The-Secret-of-Poppyridge-Cove.txt', 88847), ('From-the-Earth-to-the-Moon.txt', 88847), ('The-Cat-of-Bubastes.txt', 88847), ('Bones-in-London.txt', 88847), ('Beyond-The-Rocks.txt', 88847), ('Smiles.txt', 88847), ('The-Demon-Girl.txt', 88847), ('Arms-and-the-Woman.txt', 88847), ('Camille.txt', 88847), ('Adrift-in-New-York.txt', 88847), ('An-Amiable-Charlatan-.txt', 88847), ('Induction.txt', 88847), ('Tales-of-Terror--Mystery.txt', 88847), ('Tesla.txt', 88847), (\"The-Bishop's-Secret.txt\", 88847), ('The-Blonde-Lady.txt', 88847), ('Dark-Desire.txt', 88847), ('Pride-and-Prejudice.txt', 88847), ('Alien-Cradle.txt', 88847), ('The-Restless-Sex.txt', 88847), ('The-Window-at-the-White-Cat.txt', 88847), ('The-Mad-King.txt', 88847), ('Simon-Called-Peter.txt', 88847), ('The-Story-of-Don-Quixote.txt', 88847), ('The-Bandbox.txt', 88847), ('The-Avenger.txt', 88847), ('The-Eye-of-Osiris.txt', 88847), ('The-Phantom-of-the-Opera.txt', 88847)]\n",
            "Uplynelo 72.45618486404419 sekund\n"
          ]
        }
      ]
    },
    {
      "cell_type": "code",
      "source": [
        "#jak mozemy zauwazyc sredni czas wykonania danego zadania z 30 ksiazkami zwiekszyl sie prawie o wiele w porownaniu z 5 ksiazkami az do 23 sekund, ale i tak to jest dobry rezzultat jak na taki duzy zbior ksiazek\n",
        "start= time.time()\n",
        "\n",
        "\n",
        "df30 = spark.createDataFrame([(x30[i], ksiazki30[i]) for i in range(len(x30))], [\"nazwa_ksiazki\", \"tekst\"])\n",
        "df30 = df30.withColumn(\"maly_tekst\", lower(df30[\"tekst\"])) \n",
        "df30 = df30.withColumn(\"znak\", explode(split(df30[\"maly_tekst\"], \"\"))) \n",
        "#df30 = df30.filter(df30[\"znak\"].isin(list(\"abcdefghijklmnopqrstuvwxyz\"))) \n",
        "df30 = df30.filter(~df30[\"znak\"].isin(list(\" \\t\\n\\r\"))) #usuwam niepotrzebne znaki typu  \\t\\n i spacje\n",
        "df30 = df30.where(length(df30[\"znak\"]) > 0) #pozostawiam znaki ktore maja dlug wiecej niz 0\n",
        "\n",
        "df30 = df30.groupBy(\"nazwa_ksiazki\").pivot(\"znak\").agg(count(\"*\").alias(\"liczba_znakow\")) \n",
        "\n",
        "df30.show(30)\n",
        "\n",
        "\n",
        "\n",
        "end = time.time()\n",
        "print(f\"Uplynelo {end-start} sekund\")"
      ],
      "metadata": {
        "colab": {
          "base_uri": "https://localhost:8080/"
        },
        "id": "rSriR1sGOYnh",
        "outputId": "405fd964-93d4-4419-dd10-db0345488155"
      },
      "execution_count": 20,
      "outputs": [
        {
          "output_type": "stream",
          "name": "stdout",
          "text": [
            "+--------------------+----+----+----+----+----+----+----+----+----+----+----+-----+----+----+----+----+----+----+----+----+----+----+----+----+----+---+----+----+----+----+----+----+----+----+----+----+----+-----+-----+-----+-----+-----+-----+-----+-----+-----+----+----+-----+-----+-----+-----+-----+----+-----+-----+-----+-----+----+-----+----+-----+----+----+----+----+----+----+----+----+----+----+----+----+----+----+----+----+----+----+----+----+----+----+----+----+----+----+----+----+----+----+----+----+----+----+----+\n",
            "|       nazwa_ksiazki|   !|   \"|   #|   $|   %|   &|   '|   (|   )|   *|   +|    ,|   -|   .|   /|   0|   1|   2|   3|   4|   5|   6|   7|   8|   9|  :|   ;|   <|   =|   >|   ?|   @|   [|   ]|   ^|   _|   `|    a|    b|    c|    d|    e|    f|    g|    h|    i|   j|   k|    l|    m|    n|    o|    p|   q|    r|    s|    t|    u|   v|    w|   x|    y|   z|   {|   ||   }|   ~|   £|   ©|   à|   á|   â|   æ|   ç|   è|   é|   ê|   ë|   í|   î|   ï|   ñ|   ô|   ú|   ü|   ă|   ĕ|   œ|   –|   —|   ‘|   ’|   “|   ”|   …|   ﻿|   �|\n",
            "+--------------------+----+----+----+----+----+----+----+----+----+----+----+-----+----+----+----+----+----+----+----+----+----+----+----+----+----+---+----+----+----+----+----+----+----+----+----+----+----+-----+-----+-----+-----+-----+-----+-----+-----+-----+----+----+-----+-----+-----+-----+-----+----+-----+-----+-----+-----+----+-----+----+-----+----+----+----+----+----+----+----+----+----+----+----+----+----+----+----+----+----+----+----+----+----+----+----+----+----+----+----+----+----+----+----+----+----+----+----+\n",
            "|The-Secret-of-Pop...|  67|null|   6|   2|null|null|  16|   5|   5|  31|null| 3128| 106|4225|   1|  24|  37|  15|  12|   7|   9|   8|   6|   8|   7| 14|   6|null|null|null| 400|null|null|null|null|null|null|17918| 4331| 5515|11186|30042| 4329| 5545|16290|14824| 373|2571| 9312| 4651|14978|15276| 4061| 231|12001|14116|19229| 6376|1811| 5442| 280| 4649| 219|null|null|null|null|null|null|   1|null|null|null|null|null|   3|null|null|null|null|   1|null|null|null|null|null|null|null|null| 101|   1|1586|1062|1062|  98|null|null|\n",
            "|Sense-and-Sensibi...| 562|3106|null|   2|   1|   6| 921|  53|  53|  22|null|10045| 443|5131|  25|  32| 100|  39|  42|  39|  24|  21|  17|  21|  19| 82|1572|null|null|null| 451|   2|   2|   2|null|null|null|41525| 8197|13131|22840|68487|12605| 9949|32882|37695|1036|2910|21112|14966|39467|43316| 8485| 615|34474|33528|46585|15216|5983|12917| 942|11994|  71|null|null|null|null|null|null|null|null|null|null|null|null|null|null|null|null|null|null|null|null|null|null|null|null|null|null|1178|null|null|null|null|null|null|null|\n",
            "|Arms-and-the-Woma...| 432|5107|   1|  10|   1|   1| 569|  21|  21|  38|null| 4396| 271|5919|  31|  66|  74|  17|  23|   9|  23|   7|  11|  14|  21| 88| 543|null|null|null| 857|   2|   1|   1|null|null|null|24093| 4278| 7209|12792|38328| 5700| 6298|19339|22417| 391|2777|12603| 8291|20600|22910| 5349| 217|17463|18927|26353| 8449|2963| 8046| 320| 7051| 143|null|null|null|null|null|null|null|null|null|null|null|null|  10|null|null|null|null|null|null|null|null|   1|null|null|null|null| 300|null|null|null|null|null|null|null|\n",
            "|Simon-Called-Pete...| 438|5979|   1|   2|   1|null|3505|  53|  53|  64|null|10513| 890|8487|  27|  40|  90|  21|  27|  18|  27|   7|  14|  18|  20|187| 611|null|null|null|1120|   2|   2|   2|null|null|null|39312| 7034|10595|23645|61063| 9317|10231|30824|31459|1211|4685|20966|11251|32708|37132| 8667| 380|26154|27906|45136|14679|4098|11153| 623| 9931| 156|null|null|null|null|null|null|   2|   1|   3|null|   1|   5|  50|   2|null|null|   3|null|null|   9|null|null|null|null|null|null| 470|null|null|null|null| 119|null|null|\n",
            "|         Camille.txt| 154|null|   1|   1|   4|null|null|  33|  33|  48|   1| 5146| 193|3532|   4|  53|  55|  39|  11|  11|  16|  10|   9|  13|  18|133| 627|   1|   2|   1| 566|   2|  22|  22|null|   1|null|21697| 3363| 5728|11877|35746| 5987| 5564|17444|19227| 223|1999|10377| 8371|17719|22035| 3966| 203|15639|15737|25054| 8631|3205| 7388| 435| 6630|  79|null|null|null|   1|null|null|null|null|null|null|null|null|null|null|null|null|null|null|null|null|null|null|null|null|null|null|  15|  13| 425|1500|1454|   4|null|null|\n",
            "| Bones-in-London.txt| 341|4930|   1|   2|   1|  15|1573|  44|  44|  99|null| 5505| 549|4414|  29|  81|  83|  33|  18|  17|  32|  11|  20|  17|  14| 88|  80|null|null|null| 586|   2|   1|   1|null|   8|null|23074| 5264| 7056|13723|34540| 6040| 5766|17095|20524| 633|2500|11768| 7292|20059|22545| 5369| 262|16115|18614|25483| 8440|2604| 6037| 478| 6557| 119|null|null|null|null|   8|null|null|null|null|null|null|   2|   6|null|null|null|null|null|null|null|null|null|null|null|null|null| 849|null|null|null|null|  42|null|null|\n",
            "|From-the-Earth-to...| 650|null|null|  13|null|null|null|  40|  40|null|null| 7551| 475|4496|   2| 671| 204| 169|  87| 115| 113|  77|  59|  82|  40| 76| 877|null|null|null| 570|  45|   8|   8|   3|   2|  27|32296| 7379|13608|16584|55358| 9911| 6856|25663|30620| 936|2005|17537|10084|29314|31670| 8474| 577|25161|26286|41810|11773|4083| 8498|1014| 6476| 267|null|null|null|null|null|null|null|null|null|null|null|null|null|null|null|null|null|null|null|null|null|null|null|null|null|  29| 129|   1| 364|2010|1998|   2|null|null|\n",
            "|Pride-and-Prejudi...| 499|null|   1|   2|   1|null|   2|  38|  38|  28|null| 9279| 404|6393|  26|  32|  99|  50|  49|  46|  45|  26|  18|  23|  22|153|1538|null|null|null| 463|   2|   1|   1|null|null|null|42741| 9357|14114|22843|71220|12379|10436|34638|38932| 966|3339|22066|15123|38710|41354| 8738| 638|33513|33855|48191|15498|5841|12568| 866|13026| 938|null|null|null|null|null|null|   4|null|null|null|null|null|   1|   8|null|null|null|null|null|null|null|null|null|null|null|null| 395|  19| 727|1802|1751|null|null|null|\n",
            "|       Induction.txt|  15|null|   3|null|null|   7|   1|   3|   3|  39|null| 3092| 137|4257|  13|   8|  15|   7|null|   4|   8|   5|   5|   4|   5|  7|null|null|null|null| 528|null|null|null|null|null|null|17752| 3367| 4561|11623|26296| 4381| 5042|12322|14482| 405|2763| 8063| 5535|13884|16778| 3795|  92|11153|13394|19832| 6727|1543| 5643| 194| 4299| 120|null|null|null|   6|null|   1|null|null|null|null|null|null|   2|null|null|   2|null|null|null|null|null|null|null|null|null|  50|null|  22|1687|1474|1474|  39|null|null|\n",
            "|    Alien-Cradle.txt|  64|3102|null|null|null|null|2435|   2|   2|null|null| 3895| 227|7164|   1|   7|   3|null|   2|  13|   3|   1|null|null|null|  2| 108|null|null|null| 620|null|null|null|null|null|null|29478| 5484|11443|15684|49721| 8324| 7902|22583|27379| 865|3494|15593| 8778|27107|30709| 7553| 399|22886|24232|39551|11802|3736| 8442| 697| 7393| 262|null|null|null|null|null|null|null|null|null|null|null|null|null|null|null|null|null|null|null|null|null|null|null|null|null|null|null|null|null|null|null|null|null|null|\n",
            "| The-Blonde-Lady.txt| 698|4358|   3|   2|   1|   1| 989|  22|  22|  38|null| 4985| 542|6759|  58|  67| 122|  73|  67|  66|  47|  21|  31|  37|  43|583| 180|null|null|null| 897|   2|   3|   3|null|null|null|22253| 4202| 7387|12613|36486| 5871| 5684|18450|19491| 355|2287|11732| 7699|19767|21978| 5304| 245|16017|18000|26359| 8835|2627| 6622| 507| 5572| 191|null|null|null|null|null|null|null|null|  15|null|   1| 194| 102|   3|   1|null|  63|null|null|   9|null|null|null|null|   8|null|  51|null|null|null|null|null|null|null|\n",
            "|          Smiles.txt| 117|3159|   1|  38|   1|null|2690|  61|  61|  28|null| 8771| 657|5810|  31|  72| 186|  82|  37|  32|  46|  29|  29|  21|  76| 64| 452|null|   1|null| 400|   2|   9|   9|null|null|null|33238| 6569| 9858|19578|51727| 8998| 8919|27173|29940| 707|3578|18764|10802|28739|31459| 7233| 340|25118|26294|38164|12036|3671| 9940| 593| 8925| 238|null|null|null|null|null|null|null|null|null|   5|null|   1|  20|   1|null|null|null|   2|null|   2|null|null|null|null|null|null| 565|null|null|   3|   3|null|null|null|\n",
            "|The-Cat-of-Bubast...| 113|  22|   1|   2|   1|null|   7|  24|  24|  28|null| 7323| 327|5251|  31|  22|  65|  27|  18|  18|  28|  18|  14|  15|  17| 59| 830|null|null|null| 282|   2|  13|  13|null|null|null|43242| 9015|12376|22876|70163|12916|10681|37098|32839|1021|3467|19420|12620|34161|41337| 9390| 391|32305|32571|52471|15716|4767|12908| 731|10551| 146|null|null|null|null|null|null|null|null|null|   8|null|null|   2|   1|null|null|null|null|null|null|null|null|null|null|   1|null| 146|  47| 355|1495|1387|null|null|null|\n",
            "|The-Phantom-of-th...|1381|3475|   1|   2|   1|null|1323|  31|  31|  28|null| 6556| 823|7045|  25|  38|  94|  33|  24|  19|  29|  12|  20|  30|  18|410| 449|null|null|null| 700|   2|  30|  30|null|null|null|30083| 5151| 9294|16753|48275| 7685| 7917|26068|25917| 389|3240|14042| 9879|24900|29000| 6355| 335|22809|22764|35034|10574|3600| 8816| 704| 7369| 179|   5|null|   5|null|null|null|null|null|null|null|null|null|null|null|null|null|null|null|null|null|null|null|null|null|null|null| 151|null|null|null|null|null|null|null|\n",
            "|An-Amiable-Charla...| 737|4652|   1|   2|   1|   2|1235|  23|  23|  48|null| 3970|1409|5494|  26|  22|  66|  11|  18|  14|  12|  18|  16|  11|  14| 60| 273|null|null|null| 450|   2|   2|   2|null|  54|null|21599| 4557| 7088|12241|36035| 5650| 5552|15201|19324| 417|2663|11774| 9301|18516|21394| 5186| 280|17208|15884|24232| 8991|2700| 6345| 460| 6732| 138|null|null|null|null|null|null|   1|null|null|null|null|   1|   6|   2|null|null|  14|null|null|  14|null|null|null|null|null|null|null|null|null|null|null|null|   1|null|\n",
            "|     Dark-Desire.txt|  63|null|null|   1|   1|   1|   9|   7|   7|null|null| 3604|  77|3659|   6|  12|  40|  13|   9|   8|   8|   7|   8|   8|   7|  8| 108|   4|null|   4| 389|   1|null|null|null|null|null|15840| 3270| 3969|10647|24641| 3813| 3491|12065|13668| 325|2564| 7782| 5910|12973|15215| 3357| 121| 9509|10929|18881| 5911|1546| 5678| 426| 4482|  96|null|   2|null|null|null|null|null|null|null|null|   2|null|   5|null|null|null|null|   1|null|null|null|null|null|null|null|null|   5|   4|1918| 804| 806|  56|null|null|\n",
            "|The-Window-at-the...| 197|null|null|null|null|null|null|   1|   1|  27|null| 5135| 429|4376|null|   2|   7|   4|   3|   1|   1|   2|   1|   1|   1|104| 294|null|null|null| 448|null|null|null|null|   4|   1|23348| 4308| 6104|13980|35622| 5871| 5953|18633|20032| 340|2898|11266| 7489|19529|21328| 4746| 209|15952|16459|26632| 7715|2401| 7561| 516| 5663| 264|null|null|null|null|null|null|null|null|null|null|null|null|null|null|null|null|null|null|null|null|null|null|null|null|null|null| 497|  58|1180|1786|1764|null|null|  10|\n",
            "|     The-Avenger.txt| 732|6027|   1|   2|   1|   2|1097|  21|  21|  28|null| 5671| 387|6069|  26|  35|  74|  15|  13|   9|  16|   8|  13|  16|  16| 33|  94|null|null|null| 704|   2|   1|   1|null|null|null|27223| 4853| 7699|14834|43679| 6985| 6038|21736|22164| 295|3017|13792| 9109|22367|26192| 4933| 359|19819|21988|28609|10130|2937| 9171| 621| 8191| 142|null|null|null|null|   5|null|   1|null|  39|   2|null|   2|  26|null|null|null|   4|null|null|   8|null|   1|null|null|   2|null| 375|null|null|null|null|null|null|null|\n",
            "|           Tesla.txt| 123|null|null|   2|   2|   1|null|   2|   2|null|null| 3123| 285|4547|   6|  66| 168|  48|  53|  32|  41|  28|  21|  55| 103| 37|  17|null|null|null| 318|null|null|null|null|null|null|25473| 4667| 7222|14428|39011| 5987| 6606|19682|19330| 398|3412|11476| 6686|21136|22659| 4993| 208|17315|17651|29402| 7966|2629| 7357| 377| 4993| 276|null|null|null|null|null|null|   1|null|null|null|   3|null|   2|null|null|null|null|null|null|null|null|   1|null|null|null|   3| 149|null|1584| 827| 825|null|null|null|\n",
            "|Tales-of-Terror--...| 174|null|   2|   1|   4|   1|null|  45|  45|  59|null| 5084| 487|3914|   4|  49|  50|  27|  19|  11|  15|  13|  13|  18|  20| 78|  95|   1|   1|   1| 278|   2|  19|  19|null|   1|  66|27372| 4815| 8845|14025|40250| 7093| 6102|21074|22946| 448|2237|12741| 9184|22571|24897| 5539| 293|19080|20414|30612| 9603|3309| 8271| 661| 6594| 182|null|null|null|   1|null|null|null|null|null|null|null|null|null|null|null|null|null|null|null|null|null|null|null|null|null|  10| 259|  14| 422| 957| 812|   8|null|null|\n",
            "|  Mansfield-Park.txt| 497|null|   1|   2|   1|null|1142|  80|  80|  28|null|12587| 626|7110|  25|  28|  75|  22|  14|  18|  12|   7|   6|  12|   9|360|2260|null|null|null| 471|   2|   2|   2|null|null|null|56281|11116|16962|30166|87273|17513|14128|43786|47284|1007|4335|26364|19038|51551|55259|11329| 816|43928|44817|61795|20937|7460|17105|1168|15509|  87|null|null|null|null|   4|null|null|null|null|null|null|null|null|null|null|null|null|null|null|null|null|null|null|null|null|null| 413|null|null|1657|1657|null|null|null|\n",
            "|The-Restless-Sex.txt|null|null|null|null|null|null|null|null|null|null|null|    3|   3|  10|null|null|null|null|null|null|null|null|null|null|null|  1|   2|null|null|null|null|null|null|null|null|null|null|   27|    3|   13|   14|   55|   13|    8|   10|   39|null|   4|   29|    7|   30|   28|    5|   2|   26|   29|   35|   10|   5|    3|   3|   15|null|null|null|null|null|null|null|null|null|null|null|null|null|null|null|null|null|null|null|null|null|null|null|null|null|null|null|null|null|null|null|null|null|null|null|\n",
            "|The-Story-of-Don-...| 167| 692|   3|   2|   1|null| 633|  35|  35|  38|null| 5905| 483|3198|  60|  71| 123|  99|  77|  41|  40|  40|  39|  40|  54|209| 630|null|null|null|  98|   2|   1|   1|null|null|null|36020| 6250|11001|22634|56134| 9255| 8879|33995|28692| 465|3376|14695|10005|31306|33557| 6526|1717|24004|26838|41405|12095|4088| 9703|2114| 6272| 356|null|null|null|null|null|null|null|null|null|null|null|null|null|null|   1|null|null|null|  56|   3|null|null|null|null|null|null| 192|null|null|null|null|null|null|null|\n",
            "|  The-Demon-Girl.txt|  10|null|null|null|null|   1|null|   1|   1|   4|null| 3732| 255|6485|   1|   5|   7|   6|   2|   1|   1|null|   2|   2|   1|  5|  62|null|null|null| 580|null|null|null|null|   1|null|24991| 5284| 7431|17694|38046| 6365| 7023|17996|22319| 272|3754|13195| 9542|21206|23116| 5264| 181|16088|18313|25556| 9425|2458| 7982| 392| 7557| 267|null|null|null|null|null|null|null|null|null|null|null|null|null|null|null|null|null|null|null|null|null|null|null|null|null|null|null|  20|1369|1668|1656|   1|null|   3|\n",
            "|Beyond-The-Rocks.txt| 377|2206|   1|   2|   1|null| 549|  24|  24|  28|null| 4732| 473|3563|  31|  20|  71|  13|  17|  11|  20|  18|   9|  13|  15|101| 328|null|null|   1| 349|   2|   1|   1|null|null|null|24360| 4324| 6337|14672|37337| 6085| 5610|20168|18349| 634|2146|12307| 6837|20029|23737| 4487| 265|17159|18017|25018| 8061|2720| 7656| 425| 5702| 240|null|null|null|null|null|null|   5|null|   3|   4|   3|  18|  53|   7|null|null|null|null|null|   1|   1|null|   1|   1|   5|null| 792|null|null|null|null|null|null|null|\n",
            "|     The-Bandbox.txt| 306|  22|   1|   5|   1|   2|   7|  91|  91|  28|null| 4481| 678|5517|  33|  41|  99|  50|  34|  24|  22|  18|  15|  16|  24|258| 520|null|null|null| 632|   2|   1|   1|null|null|null|24212| 5109| 7651|13977|37169| 7943| 6764|18674|21700| 430|2613|12874| 7872|21539|23254| 5724| 371|17149|19330|28266| 9321|2590| 6468| 564| 6839| 131|null|null|null|null|   1|null|null|null|null|null|   1|   1|   6|   1|null|null|null|   1|null|   5|null|null|null|null|   1|null| 892|  13|1635|2049|2039|null|null|null|\n",
            "|Adrift-in-New-Yor...| 255|  22|   3|  15|   1|null|   8|  22|  22|  38|null| 4597| 296|4823|  56|  71| 106|  44|  22|  18|  27|  14|  12|  31|  26| 80| 214|null|null|null| 808|   2|   1|   1|null|null|null|17920| 3612| 5902|10627|29185| 4962| 4739|13150|17056| 391|2517|10247| 6441|15844|19664| 3828| 209|13947|14280|19898| 7942|2211| 5492| 474| 6305| 151|null|null|null|null|null|null|null|null|null|   1|null|   2|   1|null|null|null|null|null|null|null|null|null|null|null|null|null| 328|  26|1641|2814|2773|null|null|null|\n",
            "|    The-Mad-King.txt| 246|  22|   1|   2|   1|null|   7|  17|  17|  16|null| 4652| 342|5497|   6|  17|  58|  11|  13|   9|  11|   8|   4|   9|   9| 39| 196|null|null|null| 353|null|   2|   2|null|   2|null|32867| 6699|10219|19222|54627| 9678| 8418|29601|26333| 518|3384|15823|10082|28303|31851| 7607| 315|25901|23045|40572|12089|3493| 9463| 379| 7783| 734|null|null|null|null|null|null|null|null|null|null|null|null|null|null|null|null|null|null|null|null|null|null|null|null|null|null| 395|  16| 709|1642|1586|null|   1|null|\n",
            "|The-Bishop's-Secr...| 977| 104|   3|   2|   1|   6|9024|  29|  29|  38|null| 9964| 789|5858|  58|  55|  87|  25|  23|  27|  15|  18|  22|  30|  32| 47| 907|null|null|null| 734|   2|   7|   7|null|null|null|40137| 8666|12963|22298|59974| 9826|10534|31839|36037| 842|4483|20926|14362|32852|38038| 9507| 573|30808|32243|42880|14551|4389|11016| 847|10896| 136|null|null|null|null|null|null|null|null|   5|   9|null|   2|   7|   4|   5|null|null|null|null|null|null|null|null|null|   4|null| 581|null|null|null|null|null|null|null|\n",
            "|The-Eye-of-Osiris...| 192|4845|   1|   2|   1|   2|1223|  87|  87|  34|null| 6323| 746|5379|  27|  27|  92|  30|  19|  25|  17|  10|   9|  15|  14|194| 799|null|null|null| 723|   2|   7|   7|null|null|null|34197| 7147|11854|18747|54398| 9420| 7833|25608|31515| 993|3357|16938|11436|29325|32828| 8309| 608|24585|26702|41254|13294|4244| 9063| 758| 9571| 125|null|null|null|null|null|null|null|null|   1|null|null|   1|   2|null|   1|null|null|null|null|null|null|null|null|null|null|null| 505|null|null|null|null|null|null|null|\n",
            "+--------------------+----+----+----+----+----+----+----+----+----+----+----+-----+----+----+----+----+----+----+----+----+----+----+----+----+----+---+----+----+----+----+----+----+----+----+----+----+----+-----+-----+-----+-----+-----+-----+-----+-----+-----+----+----+-----+-----+-----+-----+-----+----+-----+-----+-----+-----+----+-----+----+-----+----+----+----+----+----+----+----+----+----+----+----+----+----+----+----+----+----+----+----+----+----+----+----+----+----+----+----+----+----+----+----+----+----+----+----+\n",
            "\n",
            "Uplynelo 18.423373222351074 sekund\n"
          ]
        }
      ]
    },
    {
      "cell_type": "markdown",
      "source": [
        "Jak widac lepiej korzystac z DF - dataframe ze wzgledu na czas, bo dziala o wiele szybciej aniz RDD."
      ],
      "metadata": {
        "id": "j3gX-g0YQ2z_"
      }
    }
  ]
}